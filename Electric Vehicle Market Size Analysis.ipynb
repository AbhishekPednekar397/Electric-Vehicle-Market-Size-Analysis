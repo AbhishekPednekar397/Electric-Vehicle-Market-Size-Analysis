{
 "cells": [
  {
   "cell_type": "markdown",
   "id": "98c7052d",
   "metadata": {},
   "source": [
    "# <center><font color= \"Olive\">***Electric Vehicle Market Size Analysis***</font>"
   ]
  },
  {
   "cell_type": "markdown",
   "id": "abd0113d",
   "metadata": {},
   "source": [
    "<font color= \"Black\">**Context and Content:**</font> Market Size Analysis is the process of estimating the potential sales for a product or service within a particular market segment. In the context of electric vehicles (EV's), it involves assessing the total volume of EV registrations to understand the growth of the market, forecast future trends, and help stakeholders make informed decisions regarding production, infrastructure development, and policy-making.\n",
    "\n",
    "Dataset contains the following columns, each representing following aspects of the electric vehicle (EV) population in the United States.\n",
    "\n",
    "<font color= \"Blue\">SL.No.</font>  **Column Name--**  Description\n",
    "\n",
    "<font color= \"Blue\">1.</font> **VIN (1-10) :**  Partial Vehicle Identification Number.\n",
    "\n",
    "<font color= \"Blue\">2.</font> **County :**  The county in which the vehicle is registered.\n",
    "\n",
    "<font color= \"Blue\">3.</font> **City :**  The city in which the vehicle is registered.\n",
    "\n",
    "<font color= \"Blue\">4.</font> **State :**  The state in which the vehicle is registered. It appears that this dataset may be focused on Washington (WA) state.\n",
    "\n",
    "<font color= \"Blue\">5.</font> **Postal Code :**  The postal code where the vehicle is registered.\n",
    "\n",
    "<font color= \"Blue\">6.</font> **Model Year :**  The year of the vehicle model.\n",
    "\n",
    "<font color= \"Blue\">7.</font> **Make :**  The manufacturer of the vehicle.\n",
    "\n",
    "<font color= \"Blue\">8.</font> **Model :**  The model of the vehicle.\n",
    "\n",
    "<font color= \"Blue\">9.</font> **Electric Vehicle Type :**  The type of electric vehicle, e.g., Battery Electric Vehicle (BEV).\n",
    "\n",
    "<font color= \"Blue\">10.</font> **Clean Alternative Fuel Vehicle (CAFV) Eligibility :**  Eligibility status for clean alternative fuel vehicle programs.\n",
    "\n",
    "<font color= \"Blue\">11.</font> **Electric Range :**  The maximum range of the vehicle on a single charge (in miles).\n",
    "\n",
    "<font color= \"Blue\">12.</font> **Base MSRP :**  The Manufacturer’s Suggested Retail Price.\n",
    "    \n",
    "<font color= \"Blue\">13.</font> **Legislative District :**  The legislative district where the vehicle is registered.\n",
    "    \n",
    "<font color= \"Blue\">14.</font> **DOL Vehicle ID :**  Department of Licensing Vehicle Identification.\n",
    "    \n",
    "<font color= \"Blue\">15.</font> **Vehicle Location :**  Geographic coordinates of the vehicle location.\n",
    "    \n",
    "<font color= \"Blue\">16.</font> **Electric Utility :**  The electric utility service provider for the vehicle’s location.\n",
    "    \n",
    "<font color= \"Blue\">17.</font> **2020 Census Tract :**  The census tract for the vehicle’s location.\n",
    "    \n",
    "    \n",
    "    \n",
    "\n",
    "\n",
    "\n",
    "   \n",
    "    \n",
    "\n",
    "\n",
    "<font color= \"Black\">**Objective:**</font>\n",
    "\n",
    "The primary objective of this analysis is to leverage historical EV registration data to understand the current market penetration of EVs, predict future market growth, and identify key trends and factors driving market expansion. The specific goals include:\n",
    "\n",
    "● Assess the historical growth trend of EV registrations.\n",
    "    \n",
    "● Forecast future EV registrations based on historical trends.\n",
    "    \n",
    "● Analyze the distribution of EV registrations across different models, makes, and geographical regions.\n",
    "\n",
    "● Estimate the market size and growth potential of the EV market for upcoming years.\n",
    "    \n",
    "● Provide insights to support stakeholders in decision-making processes related to production, infrastructure planning, and policy formulation. "
   ]
  },
  {
   "cell_type": "markdown",
   "id": "30217238",
   "metadata": {},
   "source": [
    "# ANALYSIS:-"
   ]
  },
  {
   "cell_type": "markdown",
   "id": "1a4e9ee6",
   "metadata": {},
   "source": [
    "**<h3>Import required Python libraries .</h3>**"
   ]
  },
  {
   "cell_type": "code",
   "execution_count": 1,
   "id": "051d9af2",
   "metadata": {},
   "outputs": [],
   "source": [
    "import numpy as np\n",
    "import pandas as pd\n",
    "import matplotlib.pyplot as plt\n",
    "import seaborn as sns\n",
    "sns.set_style('whitegrid')"
   ]
  },
  {
   "cell_type": "markdown",
   "id": "ac316fcd",
   "metadata": {},
   "source": [
    "**<h3>Read the dataset  and retrieve top 5 and bottom 5 records.</h3>**"
   ]
  },
  {
   "cell_type": "code",
   "execution_count": 2,
   "id": "6cf0002d",
   "metadata": {},
   "outputs": [
    {
     "data": {
      "text/html": [
       "<div>\n",
       "<style scoped>\n",
       "    .dataframe tbody tr th:only-of-type {\n",
       "        vertical-align: middle;\n",
       "    }\n",
       "\n",
       "    .dataframe tbody tr th {\n",
       "        vertical-align: top;\n",
       "    }\n",
       "\n",
       "    .dataframe thead th {\n",
       "        text-align: right;\n",
       "    }\n",
       "</style>\n",
       "<table border=\"1\" class=\"dataframe\">\n",
       "  <thead>\n",
       "    <tr style=\"text-align: right;\">\n",
       "      <th></th>\n",
       "      <th>VIN (1-10)</th>\n",
       "      <th>County</th>\n",
       "      <th>City</th>\n",
       "      <th>State</th>\n",
       "      <th>Postal Code</th>\n",
       "      <th>Model Year</th>\n",
       "      <th>Make</th>\n",
       "      <th>Model</th>\n",
       "      <th>Electric Vehicle Type</th>\n",
       "      <th>Clean Alternative Fuel Vehicle (CAFV) Eligibility</th>\n",
       "      <th>Electric Range</th>\n",
       "      <th>Base MSRP</th>\n",
       "      <th>Legislative District</th>\n",
       "      <th>DOL Vehicle ID</th>\n",
       "      <th>Vehicle Location</th>\n",
       "      <th>Electric Utility</th>\n",
       "      <th>2020 Census Tract</th>\n",
       "    </tr>\n",
       "  </thead>\n",
       "  <tbody>\n",
       "    <tr>\n",
       "      <th>0</th>\n",
       "      <td>5YJYGDEE1L</td>\n",
       "      <td>King</td>\n",
       "      <td>Seattle</td>\n",
       "      <td>WA</td>\n",
       "      <td>98122.0</td>\n",
       "      <td>2020</td>\n",
       "      <td>TESLA</td>\n",
       "      <td>MODEL Y</td>\n",
       "      <td>Battery Electric Vehicle (BEV)</td>\n",
       "      <td>Clean Alternative Fuel Vehicle Eligible</td>\n",
       "      <td>291</td>\n",
       "      <td>0</td>\n",
       "      <td>37.0</td>\n",
       "      <td>125701579</td>\n",
       "      <td>POINT (-122.30839 47.610365)</td>\n",
       "      <td>CITY OF SEATTLE - (WA)|CITY OF TACOMA - (WA)</td>\n",
       "      <td>5.303301e+10</td>\n",
       "    </tr>\n",
       "    <tr>\n",
       "      <th>1</th>\n",
       "      <td>7SAYGDEE9P</td>\n",
       "      <td>Snohomish</td>\n",
       "      <td>Bothell</td>\n",
       "      <td>WA</td>\n",
       "      <td>98021.0</td>\n",
       "      <td>2023</td>\n",
       "      <td>TESLA</td>\n",
       "      <td>MODEL Y</td>\n",
       "      <td>Battery Electric Vehicle (BEV)</td>\n",
       "      <td>Eligibility unknown as battery range has not b...</td>\n",
       "      <td>0</td>\n",
       "      <td>0</td>\n",
       "      <td>1.0</td>\n",
       "      <td>244285107</td>\n",
       "      <td>POINT (-122.179458 47.802589)</td>\n",
       "      <td>PUGET SOUND ENERGY INC</td>\n",
       "      <td>5.306105e+10</td>\n",
       "    </tr>\n",
       "    <tr>\n",
       "      <th>2</th>\n",
       "      <td>5YJSA1E4XK</td>\n",
       "      <td>King</td>\n",
       "      <td>Seattle</td>\n",
       "      <td>WA</td>\n",
       "      <td>98109.0</td>\n",
       "      <td>2019</td>\n",
       "      <td>TESLA</td>\n",
       "      <td>MODEL S</td>\n",
       "      <td>Battery Electric Vehicle (BEV)</td>\n",
       "      <td>Clean Alternative Fuel Vehicle Eligible</td>\n",
       "      <td>270</td>\n",
       "      <td>0</td>\n",
       "      <td>36.0</td>\n",
       "      <td>156773144</td>\n",
       "      <td>POINT (-122.34848 47.632405)</td>\n",
       "      <td>CITY OF SEATTLE - (WA)|CITY OF TACOMA - (WA)</td>\n",
       "      <td>5.303301e+10</td>\n",
       "    </tr>\n",
       "    <tr>\n",
       "      <th>3</th>\n",
       "      <td>5YJSA1E27G</td>\n",
       "      <td>King</td>\n",
       "      <td>Issaquah</td>\n",
       "      <td>WA</td>\n",
       "      <td>98027.0</td>\n",
       "      <td>2016</td>\n",
       "      <td>TESLA</td>\n",
       "      <td>MODEL S</td>\n",
       "      <td>Battery Electric Vehicle (BEV)</td>\n",
       "      <td>Clean Alternative Fuel Vehicle Eligible</td>\n",
       "      <td>210</td>\n",
       "      <td>0</td>\n",
       "      <td>5.0</td>\n",
       "      <td>165103011</td>\n",
       "      <td>POINT (-122.03646 47.534065)</td>\n",
       "      <td>PUGET SOUND ENERGY INC||CITY OF TACOMA - (WA)</td>\n",
       "      <td>5.303303e+10</td>\n",
       "    </tr>\n",
       "    <tr>\n",
       "      <th>4</th>\n",
       "      <td>5YJYGDEE5M</td>\n",
       "      <td>Kitsap</td>\n",
       "      <td>Suquamish</td>\n",
       "      <td>WA</td>\n",
       "      <td>98392.0</td>\n",
       "      <td>2021</td>\n",
       "      <td>TESLA</td>\n",
       "      <td>MODEL Y</td>\n",
       "      <td>Battery Electric Vehicle (BEV)</td>\n",
       "      <td>Eligibility unknown as battery range has not b...</td>\n",
       "      <td>0</td>\n",
       "      <td>0</td>\n",
       "      <td>23.0</td>\n",
       "      <td>205138552</td>\n",
       "      <td>POINT (-122.55717 47.733415)</td>\n",
       "      <td>PUGET SOUND ENERGY INC</td>\n",
       "      <td>5.303594e+10</td>\n",
       "    </tr>\n",
       "    <tr>\n",
       "      <th>...</th>\n",
       "      <td>...</td>\n",
       "      <td>...</td>\n",
       "      <td>...</td>\n",
       "      <td>...</td>\n",
       "      <td>...</td>\n",
       "      <td>...</td>\n",
       "      <td>...</td>\n",
       "      <td>...</td>\n",
       "      <td>...</td>\n",
       "      <td>...</td>\n",
       "      <td>...</td>\n",
       "      <td>...</td>\n",
       "      <td>...</td>\n",
       "      <td>...</td>\n",
       "      <td>...</td>\n",
       "      <td>...</td>\n",
       "      <td>...</td>\n",
       "    </tr>\n",
       "    <tr>\n",
       "      <th>177861</th>\n",
       "      <td>7SAYGDEE3N</td>\n",
       "      <td>Pierce</td>\n",
       "      <td>Bonney Lake</td>\n",
       "      <td>WA</td>\n",
       "      <td>98391.0</td>\n",
       "      <td>2022</td>\n",
       "      <td>TESLA</td>\n",
       "      <td>MODEL Y</td>\n",
       "      <td>Battery Electric Vehicle (BEV)</td>\n",
       "      <td>Eligibility unknown as battery range has not b...</td>\n",
       "      <td>0</td>\n",
       "      <td>0</td>\n",
       "      <td>31.0</td>\n",
       "      <td>195224452</td>\n",
       "      <td>POINT (-122.183805 47.18062)</td>\n",
       "      <td>PUGET SOUND ENERGY INC||CITY OF TACOMA - (WA)</td>\n",
       "      <td>5.305307e+10</td>\n",
       "    </tr>\n",
       "    <tr>\n",
       "      <th>177862</th>\n",
       "      <td>KM8K23AG1P</td>\n",
       "      <td>Mason</td>\n",
       "      <td>Shelton</td>\n",
       "      <td>WA</td>\n",
       "      <td>98584.0</td>\n",
       "      <td>2023</td>\n",
       "      <td>HYUNDAI</td>\n",
       "      <td>KONA ELECTRIC</td>\n",
       "      <td>Battery Electric Vehicle (BEV)</td>\n",
       "      <td>Eligibility unknown as battery range has not b...</td>\n",
       "      <td>0</td>\n",
       "      <td>0</td>\n",
       "      <td>35.0</td>\n",
       "      <td>228454180</td>\n",
       "      <td>POINT (-123.105305 47.211085)</td>\n",
       "      <td>BONNEVILLE POWER ADMINISTRATION||CITY OF TACOM...</td>\n",
       "      <td>5.304596e+10</td>\n",
       "    </tr>\n",
       "    <tr>\n",
       "      <th>177863</th>\n",
       "      <td>5YJYGDEE6M</td>\n",
       "      <td>Grant</td>\n",
       "      <td>Quincy</td>\n",
       "      <td>WA</td>\n",
       "      <td>98848.0</td>\n",
       "      <td>2021</td>\n",
       "      <td>TESLA</td>\n",
       "      <td>MODEL Y</td>\n",
       "      <td>Battery Electric Vehicle (BEV)</td>\n",
       "      <td>Eligibility unknown as battery range has not b...</td>\n",
       "      <td>0</td>\n",
       "      <td>0</td>\n",
       "      <td>13.0</td>\n",
       "      <td>168797219</td>\n",
       "      <td>POINT (-119.8493873 47.2339933)</td>\n",
       "      <td>PUD NO 2 OF GRANT COUNTY</td>\n",
       "      <td>5.302501e+10</td>\n",
       "    </tr>\n",
       "    <tr>\n",
       "      <th>177864</th>\n",
       "      <td>WVGKMPE27M</td>\n",
       "      <td>King</td>\n",
       "      <td>Black Diamond</td>\n",
       "      <td>WA</td>\n",
       "      <td>98010.0</td>\n",
       "      <td>2021</td>\n",
       "      <td>VOLKSWAGEN</td>\n",
       "      <td>ID.4</td>\n",
       "      <td>Battery Electric Vehicle (BEV)</td>\n",
       "      <td>Eligibility unknown as battery range has not b...</td>\n",
       "      <td>0</td>\n",
       "      <td>0</td>\n",
       "      <td>5.0</td>\n",
       "      <td>182448801</td>\n",
       "      <td>POINT (-122.00451 47.312185)</td>\n",
       "      <td>PUGET SOUND ENERGY INC||CITY OF TACOMA - (WA)</td>\n",
       "      <td>5.303303e+10</td>\n",
       "    </tr>\n",
       "    <tr>\n",
       "      <th>177865</th>\n",
       "      <td>5YJ3E1EA8M</td>\n",
       "      <td>Pierce</td>\n",
       "      <td>Tacoma</td>\n",
       "      <td>WA</td>\n",
       "      <td>98422.0</td>\n",
       "      <td>2021</td>\n",
       "      <td>TESLA</td>\n",
       "      <td>MODEL 3</td>\n",
       "      <td>Battery Electric Vehicle (BEV)</td>\n",
       "      <td>Eligibility unknown as battery range has not b...</td>\n",
       "      <td>0</td>\n",
       "      <td>0</td>\n",
       "      <td>27.0</td>\n",
       "      <td>211464683</td>\n",
       "      <td>POINT (-122.38578 47.28971)</td>\n",
       "      <td>BONNEVILLE POWER ADMINISTRATION||CITY OF TACOM...</td>\n",
       "      <td>5.305394e+10</td>\n",
       "    </tr>\n",
       "  </tbody>\n",
       "</table>\n",
       "<p>177866 rows × 17 columns</p>\n",
       "</div>"
      ],
      "text/plain": [
       "        VIN (1-10)     County           City State  Postal Code  Model Year  \\\n",
       "0       5YJYGDEE1L       King        Seattle    WA      98122.0        2020   \n",
       "1       7SAYGDEE9P  Snohomish        Bothell    WA      98021.0        2023   \n",
       "2       5YJSA1E4XK       King        Seattle    WA      98109.0        2019   \n",
       "3       5YJSA1E27G       King       Issaquah    WA      98027.0        2016   \n",
       "4       5YJYGDEE5M     Kitsap      Suquamish    WA      98392.0        2021   \n",
       "...            ...        ...            ...   ...          ...         ...   \n",
       "177861  7SAYGDEE3N     Pierce    Bonney Lake    WA      98391.0        2022   \n",
       "177862  KM8K23AG1P      Mason        Shelton    WA      98584.0        2023   \n",
       "177863  5YJYGDEE6M      Grant         Quincy    WA      98848.0        2021   \n",
       "177864  WVGKMPE27M       King  Black Diamond    WA      98010.0        2021   \n",
       "177865  5YJ3E1EA8M     Pierce         Tacoma    WA      98422.0        2021   \n",
       "\n",
       "              Make          Model           Electric Vehicle Type  \\\n",
       "0            TESLA        MODEL Y  Battery Electric Vehicle (BEV)   \n",
       "1            TESLA        MODEL Y  Battery Electric Vehicle (BEV)   \n",
       "2            TESLA        MODEL S  Battery Electric Vehicle (BEV)   \n",
       "3            TESLA        MODEL S  Battery Electric Vehicle (BEV)   \n",
       "4            TESLA        MODEL Y  Battery Electric Vehicle (BEV)   \n",
       "...            ...            ...                             ...   \n",
       "177861       TESLA        MODEL Y  Battery Electric Vehicle (BEV)   \n",
       "177862     HYUNDAI  KONA ELECTRIC  Battery Electric Vehicle (BEV)   \n",
       "177863       TESLA        MODEL Y  Battery Electric Vehicle (BEV)   \n",
       "177864  VOLKSWAGEN           ID.4  Battery Electric Vehicle (BEV)   \n",
       "177865       TESLA        MODEL 3  Battery Electric Vehicle (BEV)   \n",
       "\n",
       "        Clean Alternative Fuel Vehicle (CAFV) Eligibility  Electric Range  \\\n",
       "0                 Clean Alternative Fuel Vehicle Eligible             291   \n",
       "1       Eligibility unknown as battery range has not b...               0   \n",
       "2                 Clean Alternative Fuel Vehicle Eligible             270   \n",
       "3                 Clean Alternative Fuel Vehicle Eligible             210   \n",
       "4       Eligibility unknown as battery range has not b...               0   \n",
       "...                                                   ...             ...   \n",
       "177861  Eligibility unknown as battery range has not b...               0   \n",
       "177862  Eligibility unknown as battery range has not b...               0   \n",
       "177863  Eligibility unknown as battery range has not b...               0   \n",
       "177864  Eligibility unknown as battery range has not b...               0   \n",
       "177865  Eligibility unknown as battery range has not b...               0   \n",
       "\n",
       "        Base MSRP  Legislative District  DOL Vehicle ID  \\\n",
       "0               0                  37.0       125701579   \n",
       "1               0                   1.0       244285107   \n",
       "2               0                  36.0       156773144   \n",
       "3               0                   5.0       165103011   \n",
       "4               0                  23.0       205138552   \n",
       "...           ...                   ...             ...   \n",
       "177861          0                  31.0       195224452   \n",
       "177862          0                  35.0       228454180   \n",
       "177863          0                  13.0       168797219   \n",
       "177864          0                   5.0       182448801   \n",
       "177865          0                  27.0       211464683   \n",
       "\n",
       "                       Vehicle Location  \\\n",
       "0          POINT (-122.30839 47.610365)   \n",
       "1         POINT (-122.179458 47.802589)   \n",
       "2          POINT (-122.34848 47.632405)   \n",
       "3          POINT (-122.03646 47.534065)   \n",
       "4          POINT (-122.55717 47.733415)   \n",
       "...                                 ...   \n",
       "177861     POINT (-122.183805 47.18062)   \n",
       "177862    POINT (-123.105305 47.211085)   \n",
       "177863  POINT (-119.8493873 47.2339933)   \n",
       "177864     POINT (-122.00451 47.312185)   \n",
       "177865      POINT (-122.38578 47.28971)   \n",
       "\n",
       "                                         Electric Utility  2020 Census Tract  \n",
       "0            CITY OF SEATTLE - (WA)|CITY OF TACOMA - (WA)       5.303301e+10  \n",
       "1                                  PUGET SOUND ENERGY INC       5.306105e+10  \n",
       "2            CITY OF SEATTLE - (WA)|CITY OF TACOMA - (WA)       5.303301e+10  \n",
       "3           PUGET SOUND ENERGY INC||CITY OF TACOMA - (WA)       5.303303e+10  \n",
       "4                                  PUGET SOUND ENERGY INC       5.303594e+10  \n",
       "...                                                   ...                ...  \n",
       "177861      PUGET SOUND ENERGY INC||CITY OF TACOMA - (WA)       5.305307e+10  \n",
       "177862  BONNEVILLE POWER ADMINISTRATION||CITY OF TACOM...       5.304596e+10  \n",
       "177863                           PUD NO 2 OF GRANT COUNTY       5.302501e+10  \n",
       "177864      PUGET SOUND ENERGY INC||CITY OF TACOMA - (WA)       5.303303e+10  \n",
       "177865  BONNEVILLE POWER ADMINISTRATION||CITY OF TACOM...       5.305394e+10  \n",
       "\n",
       "[177866 rows x 17 columns]"
      ]
     },
     "execution_count": 2,
     "metadata": {},
     "output_type": "execute_result"
    }
   ],
   "source": [
    "ev_data = pd.read_csv(r\"D:\\projects\\Pthon\\EV market size\\Electric_Vehicle_Population_Data.csv\")\n",
    "ev_data"
   ]
  },
  {
   "cell_type": "markdown",
   "id": "228b53a6",
   "metadata": {},
   "source": [
    "<b><font color= \"Red\">This data is based on EV population in Unites States.</font></b>"
   ]
  },
  {
   "cell_type": "markdown",
   "id": "d645aa70",
   "metadata": {},
   "source": [
    "**<h3>Explore Dataset in order to perform Data Cleaning.</h3>**"
   ]
  },
  {
   "cell_type": "code",
   "execution_count": 3,
   "id": "b9d4ac51",
   "metadata": {},
   "outputs": [
    {
     "name": "stdout",
     "output_type": "stream",
     "text": [
      "<class 'pandas.core.frame.DataFrame'>\n",
      "RangeIndex: 177866 entries, 0 to 177865\n",
      "Data columns (total 17 columns):\n",
      " #   Column                                             Non-Null Count   Dtype  \n",
      "---  ------                                             --------------   -----  \n",
      " 0   VIN (1-10)                                         177866 non-null  object \n",
      " 1   County                                             177861 non-null  object \n",
      " 2   City                                               177861 non-null  object \n",
      " 3   State                                              177866 non-null  object \n",
      " 4   Postal Code                                        177861 non-null  float64\n",
      " 5   Model Year                                         177866 non-null  int64  \n",
      " 6   Make                                               177866 non-null  object \n",
      " 7   Model                                              177866 non-null  object \n",
      " 8   Electric Vehicle Type                              177866 non-null  object \n",
      " 9   Clean Alternative Fuel Vehicle (CAFV) Eligibility  177866 non-null  object \n",
      " 10  Electric Range                                     177866 non-null  int64  \n",
      " 11  Base MSRP                                          177866 non-null  int64  \n",
      " 12  Legislative District                               177477 non-null  float64\n",
      " 13  DOL Vehicle ID                                     177866 non-null  int64  \n",
      " 14  Vehicle Location                                   177857 non-null  object \n",
      " 15  Electric Utility                                   177861 non-null  object \n",
      " 16  2020 Census Tract                                  177861 non-null  float64\n",
      "dtypes: float64(3), int64(4), object(10)\n",
      "memory usage: 23.1+ MB\n"
     ]
    }
   ],
   "source": [
    "ev_data.info()"
   ]
  },
  {
   "cell_type": "markdown",
   "id": "93224797",
   "metadata": {},
   "source": [
    "<b><font color= \"Red\">Dataset is containing total 177866rows and 17columns.</font></b>\n",
    "\n",
    "<b><font color= \"Red\">Model Year, Electric Range, Base MSRP, DOL Vehicle ID are the fields having datatype integer.</font></b>\n",
    "\n",
    "<b><font color= \"Red\">Postal Code, Legislative District, 2020 Census Tract are the fields having datatype float. Remaining all the fields are of datatype object.</font></b>"
   ]
  },
  {
   "cell_type": "markdown",
   "id": "a4209d22",
   "metadata": {},
   "source": [
    "**<h3>Analysing Null values.</h3>**"
   ]
  },
  {
   "cell_type": "code",
   "execution_count": 4,
   "id": "9a3bb41a",
   "metadata": {},
   "outputs": [
    {
     "data": {
      "text/plain": [
       "VIN (1-10)                                             0\n",
       "County                                                 5\n",
       "City                                                   5\n",
       "State                                                  0\n",
       "Postal Code                                            5\n",
       "Model Year                                             0\n",
       "Make                                                   0\n",
       "Model                                                  0\n",
       "Electric Vehicle Type                                  0\n",
       "Clean Alternative Fuel Vehicle (CAFV) Eligibility      0\n",
       "Electric Range                                         0\n",
       "Base MSRP                                              0\n",
       "Legislative District                                 389\n",
       "DOL Vehicle ID                                         0\n",
       "Vehicle Location                                       9\n",
       "Electric Utility                                       5\n",
       "2020 Census Tract                                      5\n",
       "dtype: int64"
      ]
     },
     "execution_count": 4,
     "metadata": {},
     "output_type": "execute_result"
    }
   ],
   "source": [
    "ev_data.isnull().sum()"
   ]
  },
  {
   "cell_type": "markdown",
   "id": "cd7d8cc3",
   "metadata": {},
   "source": [
    "<b><font color=\"Red\">County, City, Postal Code, Electric Utility and 2020 Census tract columns contains 5 null values each.</font></b>\n",
    "\n",
    "<b><font color=\"Red\">Vehicle Location column contains 9 null values. And Legislative District column has 389 null values.</font></b>"
   ]
  },
  {
   "cell_type": "markdown",
   "id": "9d4818d2",
   "metadata": {},
   "source": [
    "**<h3>Drop all the Null values in dataset</h3>**"
   ]
  },
  {
   "cell_type": "code",
   "execution_count": 5,
   "id": "974e8813",
   "metadata": {},
   "outputs": [],
   "source": [
    "ev_data = ev_data.dropna()"
   ]
  },
  {
   "cell_type": "code",
   "execution_count": 6,
   "id": "0b728f2b",
   "metadata": {},
   "outputs": [
    {
     "data": {
      "text/html": [
       "<div>\n",
       "<style scoped>\n",
       "    .dataframe tbody tr th:only-of-type {\n",
       "        vertical-align: middle;\n",
       "    }\n",
       "\n",
       "    .dataframe tbody tr th {\n",
       "        vertical-align: top;\n",
       "    }\n",
       "\n",
       "    .dataframe thead th {\n",
       "        text-align: right;\n",
       "    }\n",
       "</style>\n",
       "<table border=\"1\" class=\"dataframe\">\n",
       "  <thead>\n",
       "    <tr style=\"text-align: right;\">\n",
       "      <th></th>\n",
       "      <th>VIN (1-10)</th>\n",
       "      <th>County</th>\n",
       "      <th>City</th>\n",
       "      <th>State</th>\n",
       "      <th>Postal Code</th>\n",
       "      <th>Model Year</th>\n",
       "      <th>Make</th>\n",
       "      <th>Model</th>\n",
       "      <th>Electric Vehicle Type</th>\n",
       "      <th>Clean Alternative Fuel Vehicle (CAFV) Eligibility</th>\n",
       "      <th>Electric Range</th>\n",
       "      <th>Base MSRP</th>\n",
       "      <th>Legislative District</th>\n",
       "      <th>DOL Vehicle ID</th>\n",
       "      <th>Vehicle Location</th>\n",
       "      <th>Electric Utility</th>\n",
       "      <th>2020 Census Tract</th>\n",
       "    </tr>\n",
       "  </thead>\n",
       "  <tbody>\n",
       "    <tr>\n",
       "      <th>0</th>\n",
       "      <td>5YJYGDEE1L</td>\n",
       "      <td>King</td>\n",
       "      <td>Seattle</td>\n",
       "      <td>WA</td>\n",
       "      <td>98122.0</td>\n",
       "      <td>2020</td>\n",
       "      <td>TESLA</td>\n",
       "      <td>MODEL Y</td>\n",
       "      <td>Battery Electric Vehicle (BEV)</td>\n",
       "      <td>Clean Alternative Fuel Vehicle Eligible</td>\n",
       "      <td>291</td>\n",
       "      <td>0</td>\n",
       "      <td>37.0</td>\n",
       "      <td>125701579</td>\n",
       "      <td>POINT (-122.30839 47.610365)</td>\n",
       "      <td>CITY OF SEATTLE - (WA)|CITY OF TACOMA - (WA)</td>\n",
       "      <td>5.303301e+10</td>\n",
       "    </tr>\n",
       "    <tr>\n",
       "      <th>1</th>\n",
       "      <td>7SAYGDEE9P</td>\n",
       "      <td>Snohomish</td>\n",
       "      <td>Bothell</td>\n",
       "      <td>WA</td>\n",
       "      <td>98021.0</td>\n",
       "      <td>2023</td>\n",
       "      <td>TESLA</td>\n",
       "      <td>MODEL Y</td>\n",
       "      <td>Battery Electric Vehicle (BEV)</td>\n",
       "      <td>Eligibility unknown as battery range has not b...</td>\n",
       "      <td>0</td>\n",
       "      <td>0</td>\n",
       "      <td>1.0</td>\n",
       "      <td>244285107</td>\n",
       "      <td>POINT (-122.179458 47.802589)</td>\n",
       "      <td>PUGET SOUND ENERGY INC</td>\n",
       "      <td>5.306105e+10</td>\n",
       "    </tr>\n",
       "    <tr>\n",
       "      <th>2</th>\n",
       "      <td>5YJSA1E4XK</td>\n",
       "      <td>King</td>\n",
       "      <td>Seattle</td>\n",
       "      <td>WA</td>\n",
       "      <td>98109.0</td>\n",
       "      <td>2019</td>\n",
       "      <td>TESLA</td>\n",
       "      <td>MODEL S</td>\n",
       "      <td>Battery Electric Vehicle (BEV)</td>\n",
       "      <td>Clean Alternative Fuel Vehicle Eligible</td>\n",
       "      <td>270</td>\n",
       "      <td>0</td>\n",
       "      <td>36.0</td>\n",
       "      <td>156773144</td>\n",
       "      <td>POINT (-122.34848 47.632405)</td>\n",
       "      <td>CITY OF SEATTLE - (WA)|CITY OF TACOMA - (WA)</td>\n",
       "      <td>5.303301e+10</td>\n",
       "    </tr>\n",
       "    <tr>\n",
       "      <th>3</th>\n",
       "      <td>5YJSA1E27G</td>\n",
       "      <td>King</td>\n",
       "      <td>Issaquah</td>\n",
       "      <td>WA</td>\n",
       "      <td>98027.0</td>\n",
       "      <td>2016</td>\n",
       "      <td>TESLA</td>\n",
       "      <td>MODEL S</td>\n",
       "      <td>Battery Electric Vehicle (BEV)</td>\n",
       "      <td>Clean Alternative Fuel Vehicle Eligible</td>\n",
       "      <td>210</td>\n",
       "      <td>0</td>\n",
       "      <td>5.0</td>\n",
       "      <td>165103011</td>\n",
       "      <td>POINT (-122.03646 47.534065)</td>\n",
       "      <td>PUGET SOUND ENERGY INC||CITY OF TACOMA - (WA)</td>\n",
       "      <td>5.303303e+10</td>\n",
       "    </tr>\n",
       "    <tr>\n",
       "      <th>4</th>\n",
       "      <td>5YJYGDEE5M</td>\n",
       "      <td>Kitsap</td>\n",
       "      <td>Suquamish</td>\n",
       "      <td>WA</td>\n",
       "      <td>98392.0</td>\n",
       "      <td>2021</td>\n",
       "      <td>TESLA</td>\n",
       "      <td>MODEL Y</td>\n",
       "      <td>Battery Electric Vehicle (BEV)</td>\n",
       "      <td>Eligibility unknown as battery range has not b...</td>\n",
       "      <td>0</td>\n",
       "      <td>0</td>\n",
       "      <td>23.0</td>\n",
       "      <td>205138552</td>\n",
       "      <td>POINT (-122.55717 47.733415)</td>\n",
       "      <td>PUGET SOUND ENERGY INC</td>\n",
       "      <td>5.303594e+10</td>\n",
       "    </tr>\n",
       "  </tbody>\n",
       "</table>\n",
       "</div>"
      ],
      "text/plain": [
       "   VIN (1-10)     County       City State  Postal Code  Model Year   Make  \\\n",
       "0  5YJYGDEE1L       King    Seattle    WA      98122.0        2020  TESLA   \n",
       "1  7SAYGDEE9P  Snohomish    Bothell    WA      98021.0        2023  TESLA   \n",
       "2  5YJSA1E4XK       King    Seattle    WA      98109.0        2019  TESLA   \n",
       "3  5YJSA1E27G       King   Issaquah    WA      98027.0        2016  TESLA   \n",
       "4  5YJYGDEE5M     Kitsap  Suquamish    WA      98392.0        2021  TESLA   \n",
       "\n",
       "     Model           Electric Vehicle Type  \\\n",
       "0  MODEL Y  Battery Electric Vehicle (BEV)   \n",
       "1  MODEL Y  Battery Electric Vehicle (BEV)   \n",
       "2  MODEL S  Battery Electric Vehicle (BEV)   \n",
       "3  MODEL S  Battery Electric Vehicle (BEV)   \n",
       "4  MODEL Y  Battery Electric Vehicle (BEV)   \n",
       "\n",
       "   Clean Alternative Fuel Vehicle (CAFV) Eligibility  Electric Range  \\\n",
       "0            Clean Alternative Fuel Vehicle Eligible             291   \n",
       "1  Eligibility unknown as battery range has not b...               0   \n",
       "2            Clean Alternative Fuel Vehicle Eligible             270   \n",
       "3            Clean Alternative Fuel Vehicle Eligible             210   \n",
       "4  Eligibility unknown as battery range has not b...               0   \n",
       "\n",
       "   Base MSRP  Legislative District  DOL Vehicle ID  \\\n",
       "0          0                  37.0       125701579   \n",
       "1          0                   1.0       244285107   \n",
       "2          0                  36.0       156773144   \n",
       "3          0                   5.0       165103011   \n",
       "4          0                  23.0       205138552   \n",
       "\n",
       "                Vehicle Location  \\\n",
       "0   POINT (-122.30839 47.610365)   \n",
       "1  POINT (-122.179458 47.802589)   \n",
       "2   POINT (-122.34848 47.632405)   \n",
       "3   POINT (-122.03646 47.534065)   \n",
       "4   POINT (-122.55717 47.733415)   \n",
       "\n",
       "                                Electric Utility  2020 Census Tract  \n",
       "0   CITY OF SEATTLE - (WA)|CITY OF TACOMA - (WA)       5.303301e+10  \n",
       "1                         PUGET SOUND ENERGY INC       5.306105e+10  \n",
       "2   CITY OF SEATTLE - (WA)|CITY OF TACOMA - (WA)       5.303301e+10  \n",
       "3  PUGET SOUND ENERGY INC||CITY OF TACOMA - (WA)       5.303303e+10  \n",
       "4                         PUGET SOUND ENERGY INC       5.303594e+10  "
      ]
     },
     "execution_count": 6,
     "metadata": {},
     "output_type": "execute_result"
    }
   ],
   "source": [
    "ev_data.head()"
   ]
  },
  {
   "cell_type": "markdown",
   "id": "2f1d397e",
   "metadata": {},
   "source": [
    "**<h3><font color=\"Green\">EV Adoption Over Time :</font></h3>**\n",
    "**<h3>Analyze the growth of the EV population by model year.</h3>**"
   ]
  },
  {
   "cell_type": "code",
   "execution_count": 7,
   "id": "33e0d2e9",
   "metadata": {},
   "outputs": [
    {
     "data": {
      "text/plain": [
       "1997        1\n",
       "1998        1\n",
       "1999        5\n",
       "2000        7\n",
       "2002        2\n",
       "2003        1\n",
       "2008       19\n",
       "2010       23\n",
       "2011      775\n",
       "2012     1614\n",
       "2013     4399\n",
       "2014     3496\n",
       "2015     4826\n",
       "2016     5469\n",
       "2017     8534\n",
       "2018    14286\n",
       "2019    10913\n",
       "2020    11740\n",
       "2021    19063\n",
       "2022    27708\n",
       "2023    57519\n",
       "2024     7072\n",
       "Name: Model Year, dtype: int64"
      ]
     },
     "execution_count": 7,
     "metadata": {},
     "output_type": "execute_result"
    }
   ],
   "source": [
    "ev_adoption_by_year = ev_data['Model Year'].value_counts().sort_index()\n",
    "ev_adoption_by_year"
   ]
  },
  {
   "cell_type": "markdown",
   "id": "3f40ea51",
   "metadata": {},
   "source": [
    "**<h3>Visualising the above data with the help of Bar plot.</h3>**"
   ]
  },
  {
   "cell_type": "code",
   "execution_count": 8,
   "id": "4b2c039f",
   "metadata": {},
   "outputs": [
    {
     "data": {
      "image/png": "[encoded data removed]",
      "text/plain": [
       "<Figure size 1000x600 with 1 Axes>"
      ]
     },
     "metadata": {},
     "output_type": "display_data"
    }
   ],
   "source": [
    "plt.figure(figsize=(10,6))\n",
    "sns.barplot(x = ev_adoption_by_year.index , y = ev_adoption_by_year.values , palette = 'viridis')\n",
    "plt.title('EV Adoption Over Time')\n",
    "plt.xlabel('Model Year')\n",
    "plt.ylabel('Number of Vehicles Registered')\n",
    "plt.xticks(rotation=45)\n",
    "plt.show()"
   ]
  },
  {
   "cell_type": "markdown",
   "id": "439319b0",
   "metadata": {},
   "source": [
    "<b><font color = \"Blue\">From the above Bar chart, it's clear that EV Adoption has been increasing over time, especially noting a significant upward trend starting around 2016.\n",
    "The number of vehicles registered grows mostly up untill that point and than begins to rise more rapidly from 2017 onwards.</font></b>\n",
    "\n",
    "<b><font color=\"Blue\">The year 2023 shows a particularly sharp increase in the number of registered EV's, indicating a peak in EV adoption.</font></b>"
   ]
  },
  {
   "cell_type": "markdown",
   "id": "32662d65",
   "metadata": {},
   "source": [
    "**<h3><font color=\"Green\">Geographical Distribution of EV :</font></h3>**\n",
    "**<h3>Understand in which County and City, the EV's are most commonly registered.</h3>**"
   ]
  },
  {
   "cell_type": "code",
   "execution_count": 9,
   "id": "c6c7bfc2",
   "metadata": {},
   "outputs": [
    {
     "data": {
      "text/plain": [
       "King            92740\n",
       "Snohomish       21001\n",
       "Pierce          13782\n",
       "Clark           10409\n",
       "Thurston         6428\n",
       "Kitsap           5840\n",
       "Spokane          4586\n",
       "Whatcom          4253\n",
       "Benton           2147\n",
       "Skagit           1910\n",
       "Island           1882\n",
       "Clallam          1058\n",
       "Chelan           1047\n",
       "Yakima            995\n",
       "Jefferson         974\n",
       "San Juan          942\n",
       "Cowlitz           897\n",
       "Mason             823\n",
       "Lewis             739\n",
       "Grays Harbor      625\n",
       "Kittitas          623\n",
       "Franklin          585\n",
       "Grant             561\n",
       "Walla Walla       437\n",
       "Douglas           364\n",
       "Whitman           334\n",
       "Klickitat         284\n",
       "Okanogan          263\n",
       "Stevens           219\n",
       "Pacific           198\n",
       "Skamania          192\n",
       "Asotin             73\n",
       "Wahkiakum          60\n",
       "Pend Oreille       55\n",
       "Lincoln            49\n",
       "Adams              48\n",
       "Ferry              31\n",
       "Columbia           16\n",
       "Garfield            3\n",
       "Name: County, dtype: int64"
      ]
     },
     "execution_count": 9,
     "metadata": {},
     "output_type": "execute_result"
    }
   ],
   "source": [
    "# geographical distribution at County level.\n",
    "\n",
    "ev_county_distribution = ev_data['County'].value_counts()\n",
    "ev_county_distribution"
   ]
  },
  {
   "cell_type": "markdown",
   "id": "8551e9af",
   "metadata": {},
   "source": [
    "**<h3>Top 3 counties based on EV registration.</h3>**"
   ]
  },
  {
   "cell_type": "code",
   "execution_count": 10,
   "id": "c35249e3",
   "metadata": {},
   "outputs": [
    {
     "data": {
      "text/plain": [
       "Index(['King', 'Snohomish', 'Pierce'], dtype='object')"
      ]
     },
     "execution_count": 10,
     "metadata": {},
     "output_type": "execute_result"
    }
   ],
   "source": [
    "# Selecting the Top 3 counties based on EV registration\n",
    "\n",
    "top_counties = ev_county_distribution.head(3).index\n",
    "top_counties"
   ]
  },
  {
   "cell_type": "markdown",
   "id": "3742ebe6",
   "metadata": {},
   "source": [
    "<b><font color=\"Blue\">'King', 'Snohomish', 'Pierce' are Top 3 counties based on highest number of EV registration.</font></b>"
   ]
  },
  {
   "cell_type": "code",
   "execution_count": 11,
   "id": "74516ff6",
   "metadata": {},
   "outputs": [
    {
     "data": {
      "text/html": [
       "<div>\n",
       "<style scoped>\n",
       "    .dataframe tbody tr th:only-of-type {\n",
       "        vertical-align: middle;\n",
       "    }\n",
       "\n",
       "    .dataframe tbody tr th {\n",
       "        vertical-align: top;\n",
       "    }\n",
       "\n",
       "    .dataframe thead th {\n",
       "        text-align: right;\n",
       "    }\n",
       "</style>\n",
       "<table border=\"1\" class=\"dataframe\">\n",
       "  <thead>\n",
       "    <tr style=\"text-align: right;\">\n",
       "      <th></th>\n",
       "      <th>VIN (1-10)</th>\n",
       "      <th>County</th>\n",
       "      <th>City</th>\n",
       "      <th>State</th>\n",
       "      <th>Postal Code</th>\n",
       "      <th>Model Year</th>\n",
       "      <th>Make</th>\n",
       "      <th>Model</th>\n",
       "      <th>Electric Vehicle Type</th>\n",
       "      <th>Clean Alternative Fuel Vehicle (CAFV) Eligibility</th>\n",
       "      <th>Electric Range</th>\n",
       "      <th>Base MSRP</th>\n",
       "      <th>Legislative District</th>\n",
       "      <th>DOL Vehicle ID</th>\n",
       "      <th>Vehicle Location</th>\n",
       "      <th>Electric Utility</th>\n",
       "      <th>2020 Census Tract</th>\n",
       "    </tr>\n",
       "  </thead>\n",
       "  <tbody>\n",
       "    <tr>\n",
       "      <th>0</th>\n",
       "      <td>5YJYGDEE1L</td>\n",
       "      <td>King</td>\n",
       "      <td>Seattle</td>\n",
       "      <td>WA</td>\n",
       "      <td>98122.0</td>\n",
       "      <td>2020</td>\n",
       "      <td>TESLA</td>\n",
       "      <td>MODEL Y</td>\n",
       "      <td>Battery Electric Vehicle (BEV)</td>\n",
       "      <td>Clean Alternative Fuel Vehicle Eligible</td>\n",
       "      <td>291</td>\n",
       "      <td>0</td>\n",
       "      <td>37.0</td>\n",
       "      <td>125701579</td>\n",
       "      <td>POINT (-122.30839 47.610365)</td>\n",
       "      <td>CITY OF SEATTLE - (WA)|CITY OF TACOMA - (WA)</td>\n",
       "      <td>5.303301e+10</td>\n",
       "    </tr>\n",
       "    <tr>\n",
       "      <th>1</th>\n",
       "      <td>7SAYGDEE9P</td>\n",
       "      <td>Snohomish</td>\n",
       "      <td>Bothell</td>\n",
       "      <td>WA</td>\n",
       "      <td>98021.0</td>\n",
       "      <td>2023</td>\n",
       "      <td>TESLA</td>\n",
       "      <td>MODEL Y</td>\n",
       "      <td>Battery Electric Vehicle (BEV)</td>\n",
       "      <td>Eligibility unknown as battery range has not b...</td>\n",
       "      <td>0</td>\n",
       "      <td>0</td>\n",
       "      <td>1.0</td>\n",
       "      <td>244285107</td>\n",
       "      <td>POINT (-122.179458 47.802589)</td>\n",
       "      <td>PUGET SOUND ENERGY INC</td>\n",
       "      <td>5.306105e+10</td>\n",
       "    </tr>\n",
       "    <tr>\n",
       "      <th>2</th>\n",
       "      <td>5YJSA1E4XK</td>\n",
       "      <td>King</td>\n",
       "      <td>Seattle</td>\n",
       "      <td>WA</td>\n",
       "      <td>98109.0</td>\n",
       "      <td>2019</td>\n",
       "      <td>TESLA</td>\n",
       "      <td>MODEL S</td>\n",
       "      <td>Battery Electric Vehicle (BEV)</td>\n",
       "      <td>Clean Alternative Fuel Vehicle Eligible</td>\n",
       "      <td>270</td>\n",
       "      <td>0</td>\n",
       "      <td>36.0</td>\n",
       "      <td>156773144</td>\n",
       "      <td>POINT (-122.34848 47.632405)</td>\n",
       "      <td>CITY OF SEATTLE - (WA)|CITY OF TACOMA - (WA)</td>\n",
       "      <td>5.303301e+10</td>\n",
       "    </tr>\n",
       "    <tr>\n",
       "      <th>3</th>\n",
       "      <td>5YJSA1E27G</td>\n",
       "      <td>King</td>\n",
       "      <td>Issaquah</td>\n",
       "      <td>WA</td>\n",
       "      <td>98027.0</td>\n",
       "      <td>2016</td>\n",
       "      <td>TESLA</td>\n",
       "      <td>MODEL S</td>\n",
       "      <td>Battery Electric Vehicle (BEV)</td>\n",
       "      <td>Clean Alternative Fuel Vehicle Eligible</td>\n",
       "      <td>210</td>\n",
       "      <td>0</td>\n",
       "      <td>5.0</td>\n",
       "      <td>165103011</td>\n",
       "      <td>POINT (-122.03646 47.534065)</td>\n",
       "      <td>PUGET SOUND ENERGY INC||CITY OF TACOMA - (WA)</td>\n",
       "      <td>5.303303e+10</td>\n",
       "    </tr>\n",
       "    <tr>\n",
       "      <th>7</th>\n",
       "      <td>KNAGV4LD9J</td>\n",
       "      <td>Snohomish</td>\n",
       "      <td>Bothell</td>\n",
       "      <td>WA</td>\n",
       "      <td>98012.0</td>\n",
       "      <td>2018</td>\n",
       "      <td>KIA</td>\n",
       "      <td>OPTIMA</td>\n",
       "      <td>Plug-in Hybrid Electric Vehicle (PHEV)</td>\n",
       "      <td>Not eligible due to low battery range</td>\n",
       "      <td>29</td>\n",
       "      <td>0</td>\n",
       "      <td>1.0</td>\n",
       "      <td>290605598</td>\n",
       "      <td>POINT (-122.1873 47.820245)</td>\n",
       "      <td>PUGET SOUND ENERGY INC</td>\n",
       "      <td>5.306105e+10</td>\n",
       "    </tr>\n",
       "    <tr>\n",
       "      <th>...</th>\n",
       "      <td>...</td>\n",
       "      <td>...</td>\n",
       "      <td>...</td>\n",
       "      <td>...</td>\n",
       "      <td>...</td>\n",
       "      <td>...</td>\n",
       "      <td>...</td>\n",
       "      <td>...</td>\n",
       "      <td>...</td>\n",
       "      <td>...</td>\n",
       "      <td>...</td>\n",
       "      <td>...</td>\n",
       "      <td>...</td>\n",
       "      <td>...</td>\n",
       "      <td>...</td>\n",
       "      <td>...</td>\n",
       "      <td>...</td>\n",
       "    </tr>\n",
       "    <tr>\n",
       "      <th>177858</th>\n",
       "      <td>5YJ3E1EB8N</td>\n",
       "      <td>Snohomish</td>\n",
       "      <td>Snohomish</td>\n",
       "      <td>WA</td>\n",
       "      <td>98296.0</td>\n",
       "      <td>2022</td>\n",
       "      <td>TESLA</td>\n",
       "      <td>MODEL 3</td>\n",
       "      <td>Battery Electric Vehicle (BEV)</td>\n",
       "      <td>Eligibility unknown as battery range has not b...</td>\n",
       "      <td>0</td>\n",
       "      <td>0</td>\n",
       "      <td>1.0</td>\n",
       "      <td>213520422</td>\n",
       "      <td>POINT (-122.15134 47.8851158)</td>\n",
       "      <td>PUGET SOUND ENERGY INC</td>\n",
       "      <td>5.306105e+10</td>\n",
       "    </tr>\n",
       "    <tr>\n",
       "      <th>177859</th>\n",
       "      <td>1N4BZ1DV7M</td>\n",
       "      <td>King</td>\n",
       "      <td>Redmond</td>\n",
       "      <td>WA</td>\n",
       "      <td>98053.0</td>\n",
       "      <td>2021</td>\n",
       "      <td>NISSAN</td>\n",
       "      <td>LEAF</td>\n",
       "      <td>Battery Electric Vehicle (BEV)</td>\n",
       "      <td>Eligibility unknown as battery range has not b...</td>\n",
       "      <td>0</td>\n",
       "      <td>0</td>\n",
       "      <td>45.0</td>\n",
       "      <td>172798951</td>\n",
       "      <td>POINT (-122.0222799 47.6958998)</td>\n",
       "      <td>PUGET SOUND ENERGY INC||CITY OF TACOMA - (WA)</td>\n",
       "      <td>5.303303e+10</td>\n",
       "    </tr>\n",
       "    <tr>\n",
       "      <th>177861</th>\n",
       "      <td>7SAYGDEE3N</td>\n",
       "      <td>Pierce</td>\n",
       "      <td>Bonney Lake</td>\n",
       "      <td>WA</td>\n",
       "      <td>98391.0</td>\n",
       "      <td>2022</td>\n",
       "      <td>TESLA</td>\n",
       "      <td>MODEL Y</td>\n",
       "      <td>Battery Electric Vehicle (BEV)</td>\n",
       "      <td>Eligibility unknown as battery range has not b...</td>\n",
       "      <td>0</td>\n",
       "      <td>0</td>\n",
       "      <td>31.0</td>\n",
       "      <td>195224452</td>\n",
       "      <td>POINT (-122.183805 47.18062)</td>\n",
       "      <td>PUGET SOUND ENERGY INC||CITY OF TACOMA - (WA)</td>\n",
       "      <td>5.305307e+10</td>\n",
       "    </tr>\n",
       "    <tr>\n",
       "      <th>177864</th>\n",
       "      <td>WVGKMPE27M</td>\n",
       "      <td>King</td>\n",
       "      <td>Black Diamond</td>\n",
       "      <td>WA</td>\n",
       "      <td>98010.0</td>\n",
       "      <td>2021</td>\n",
       "      <td>VOLKSWAGEN</td>\n",
       "      <td>ID.4</td>\n",
       "      <td>Battery Electric Vehicle (BEV)</td>\n",
       "      <td>Eligibility unknown as battery range has not b...</td>\n",
       "      <td>0</td>\n",
       "      <td>0</td>\n",
       "      <td>5.0</td>\n",
       "      <td>182448801</td>\n",
       "      <td>POINT (-122.00451 47.312185)</td>\n",
       "      <td>PUGET SOUND ENERGY INC||CITY OF TACOMA - (WA)</td>\n",
       "      <td>5.303303e+10</td>\n",
       "    </tr>\n",
       "    <tr>\n",
       "      <th>177865</th>\n",
       "      <td>5YJ3E1EA8M</td>\n",
       "      <td>Pierce</td>\n",
       "      <td>Tacoma</td>\n",
       "      <td>WA</td>\n",
       "      <td>98422.0</td>\n",
       "      <td>2021</td>\n",
       "      <td>TESLA</td>\n",
       "      <td>MODEL 3</td>\n",
       "      <td>Battery Electric Vehicle (BEV)</td>\n",
       "      <td>Eligibility unknown as battery range has not b...</td>\n",
       "      <td>0</td>\n",
       "      <td>0</td>\n",
       "      <td>27.0</td>\n",
       "      <td>211464683</td>\n",
       "      <td>POINT (-122.38578 47.28971)</td>\n",
       "      <td>BONNEVILLE POWER ADMINISTRATION||CITY OF TACOM...</td>\n",
       "      <td>5.305394e+10</td>\n",
       "    </tr>\n",
       "  </tbody>\n",
       "</table>\n",
       "<p>127523 rows × 17 columns</p>\n",
       "</div>"
      ],
      "text/plain": [
       "        VIN (1-10)     County           City State  Postal Code  Model Year  \\\n",
       "0       5YJYGDEE1L       King        Seattle    WA      98122.0        2020   \n",
       "1       7SAYGDEE9P  Snohomish        Bothell    WA      98021.0        2023   \n",
       "2       5YJSA1E4XK       King        Seattle    WA      98109.0        2019   \n",
       "3       5YJSA1E27G       King       Issaquah    WA      98027.0        2016   \n",
       "7       KNAGV4LD9J  Snohomish        Bothell    WA      98012.0        2018   \n",
       "...            ...        ...            ...   ...          ...         ...   \n",
       "177858  5YJ3E1EB8N  Snohomish      Snohomish    WA      98296.0        2022   \n",
       "177859  1N4BZ1DV7M       King        Redmond    WA      98053.0        2021   \n",
       "177861  7SAYGDEE3N     Pierce    Bonney Lake    WA      98391.0        2022   \n",
       "177864  WVGKMPE27M       King  Black Diamond    WA      98010.0        2021   \n",
       "177865  5YJ3E1EA8M     Pierce         Tacoma    WA      98422.0        2021   \n",
       "\n",
       "              Make    Model                   Electric Vehicle Type  \\\n",
       "0            TESLA  MODEL Y          Battery Electric Vehicle (BEV)   \n",
       "1            TESLA  MODEL Y          Battery Electric Vehicle (BEV)   \n",
       "2            TESLA  MODEL S          Battery Electric Vehicle (BEV)   \n",
       "3            TESLA  MODEL S          Battery Electric Vehicle (BEV)   \n",
       "7              KIA   OPTIMA  Plug-in Hybrid Electric Vehicle (PHEV)   \n",
       "...            ...      ...                                     ...   \n",
       "177858       TESLA  MODEL 3          Battery Electric Vehicle (BEV)   \n",
       "177859      NISSAN     LEAF          Battery Electric Vehicle (BEV)   \n",
       "177861       TESLA  MODEL Y          Battery Electric Vehicle (BEV)   \n",
       "177864  VOLKSWAGEN     ID.4          Battery Electric Vehicle (BEV)   \n",
       "177865       TESLA  MODEL 3          Battery Electric Vehicle (BEV)   \n",
       "\n",
       "        Clean Alternative Fuel Vehicle (CAFV) Eligibility  Electric Range  \\\n",
       "0                 Clean Alternative Fuel Vehicle Eligible             291   \n",
       "1       Eligibility unknown as battery range has not b...               0   \n",
       "2                 Clean Alternative Fuel Vehicle Eligible             270   \n",
       "3                 Clean Alternative Fuel Vehicle Eligible             210   \n",
       "7                   Not eligible due to low battery range              29   \n",
       "...                                                   ...             ...   \n",
       "177858  Eligibility unknown as battery range has not b...               0   \n",
       "177859  Eligibility unknown as battery range has not b...               0   \n",
       "177861  Eligibility unknown as battery range has not b...               0   \n",
       "177864  Eligibility unknown as battery range has not b...               0   \n",
       "177865  Eligibility unknown as battery range has not b...               0   \n",
       "\n",
       "        Base MSRP  Legislative District  DOL Vehicle ID  \\\n",
       "0               0                  37.0       125701579   \n",
       "1               0                   1.0       244285107   \n",
       "2               0                  36.0       156773144   \n",
       "3               0                   5.0       165103011   \n",
       "7               0                   1.0       290605598   \n",
       "...           ...                   ...             ...   \n",
       "177858          0                   1.0       213520422   \n",
       "177859          0                  45.0       172798951   \n",
       "177861          0                  31.0       195224452   \n",
       "177864          0                   5.0       182448801   \n",
       "177865          0                  27.0       211464683   \n",
       "\n",
       "                       Vehicle Location  \\\n",
       "0          POINT (-122.30839 47.610365)   \n",
       "1         POINT (-122.179458 47.802589)   \n",
       "2          POINT (-122.34848 47.632405)   \n",
       "3          POINT (-122.03646 47.534065)   \n",
       "7           POINT (-122.1873 47.820245)   \n",
       "...                                 ...   \n",
       "177858    POINT (-122.15134 47.8851158)   \n",
       "177859  POINT (-122.0222799 47.6958998)   \n",
       "177861     POINT (-122.183805 47.18062)   \n",
       "177864     POINT (-122.00451 47.312185)   \n",
       "177865      POINT (-122.38578 47.28971)   \n",
       "\n",
       "                                         Electric Utility  2020 Census Tract  \n",
       "0            CITY OF SEATTLE - (WA)|CITY OF TACOMA - (WA)       5.303301e+10  \n",
       "1                                  PUGET SOUND ENERGY INC       5.306105e+10  \n",
       "2            CITY OF SEATTLE - (WA)|CITY OF TACOMA - (WA)       5.303301e+10  \n",
       "3           PUGET SOUND ENERGY INC||CITY OF TACOMA - (WA)       5.303303e+10  \n",
       "7                                  PUGET SOUND ENERGY INC       5.306105e+10  \n",
       "...                                                   ...                ...  \n",
       "177858                             PUGET SOUND ENERGY INC       5.306105e+10  \n",
       "177859      PUGET SOUND ENERGY INC||CITY OF TACOMA - (WA)       5.303303e+10  \n",
       "177861      PUGET SOUND ENERGY INC||CITY OF TACOMA - (WA)       5.305307e+10  \n",
       "177864      PUGET SOUND ENERGY INC||CITY OF TACOMA - (WA)       5.303303e+10  \n",
       "177865  BONNEVILLE POWER ADMINISTRATION||CITY OF TACOM...       5.305394e+10  \n",
       "\n",
       "[127523 rows x 17 columns]"
      ]
     },
     "execution_count": 11,
     "metadata": {},
     "output_type": "execute_result"
    }
   ],
   "source": [
    "# filtering the dataset for these top counties\n",
    "\n",
    "top_counties_data = ev_data[ev_data['County'].isin(top_counties)]\n",
    "top_counties_data"
   ]
  },
  {
   "cell_type": "markdown",
   "id": "7d3a430f",
   "metadata": {},
   "source": [
    "**<h3>Analyzing the distribution of EVs within the cities of these top counties.</h3>**"
   ]
  },
  {
   "cell_type": "code",
   "execution_count": 12,
   "id": "277300c9",
   "metadata": {},
   "outputs": [
    {
     "data": {
      "text/html": [
       "<div>\n",
       "<style scoped>\n",
       "    .dataframe tbody tr th:only-of-type {\n",
       "        vertical-align: middle;\n",
       "    }\n",
       "\n",
       "    .dataframe tbody tr th {\n",
       "        vertical-align: top;\n",
       "    }\n",
       "\n",
       "    .dataframe thead th {\n",
       "        text-align: right;\n",
       "    }\n",
       "</style>\n",
       "<table border=\"1\" class=\"dataframe\">\n",
       "  <thead>\n",
       "    <tr style=\"text-align: right;\">\n",
       "      <th></th>\n",
       "      <th>County</th>\n",
       "      <th>City</th>\n",
       "      <th>Number of Vehicles</th>\n",
       "    </tr>\n",
       "  </thead>\n",
       "  <tbody>\n",
       "    <tr>\n",
       "      <th>0</th>\n",
       "      <td>King</td>\n",
       "      <td>Seattle</td>\n",
       "      <td>29447</td>\n",
       "    </tr>\n",
       "    <tr>\n",
       "      <th>1</th>\n",
       "      <td>King</td>\n",
       "      <td>Bellevue</td>\n",
       "      <td>8930</td>\n",
       "    </tr>\n",
       "    <tr>\n",
       "      <th>2</th>\n",
       "      <td>King</td>\n",
       "      <td>Redmond</td>\n",
       "      <td>6478</td>\n",
       "    </tr>\n",
       "    <tr>\n",
       "      <th>3</th>\n",
       "      <td>King</td>\n",
       "      <td>Kirkland</td>\n",
       "      <td>5362</td>\n",
       "    </tr>\n",
       "    <tr>\n",
       "      <th>4</th>\n",
       "      <td>King</td>\n",
       "      <td>Sammamish</td>\n",
       "      <td>5280</td>\n",
       "    </tr>\n",
       "    <tr>\n",
       "      <th>...</th>\n",
       "      <td>...</td>\n",
       "      <td>...</td>\n",
       "      <td>...</td>\n",
       "    </tr>\n",
       "    <tr>\n",
       "      <th>108</th>\n",
       "      <td>Snohomish</td>\n",
       "      <td>Alderwood Manor</td>\n",
       "      <td>1</td>\n",
       "    </tr>\n",
       "    <tr>\n",
       "      <th>109</th>\n",
       "      <td>Snohomish</td>\n",
       "      <td>Startup</td>\n",
       "      <td>1</td>\n",
       "    </tr>\n",
       "    <tr>\n",
       "      <th>110</th>\n",
       "      <td>King</td>\n",
       "      <td>Gold Bar</td>\n",
       "      <td>1</td>\n",
       "    </tr>\n",
       "    <tr>\n",
       "      <th>111</th>\n",
       "      <td>Pierce</td>\n",
       "      <td>Kapowsin</td>\n",
       "      <td>1</td>\n",
       "    </tr>\n",
       "    <tr>\n",
       "      <th>112</th>\n",
       "      <td>Pierce</td>\n",
       "      <td>Prairie Ridge</td>\n",
       "      <td>1</td>\n",
       "    </tr>\n",
       "  </tbody>\n",
       "</table>\n",
       "<p>113 rows × 3 columns</p>\n",
       "</div>"
      ],
      "text/plain": [
       "        County             City  Number of Vehicles\n",
       "0         King          Seattle               29447\n",
       "1         King         Bellevue                8930\n",
       "2         King          Redmond                6478\n",
       "3         King         Kirkland                5362\n",
       "4         King        Sammamish                5280\n",
       "..         ...              ...                 ...\n",
       "108  Snohomish  Alderwood Manor                   1\n",
       "109  Snohomish          Startup                   1\n",
       "110       King         Gold Bar                   1\n",
       "111     Pierce         Kapowsin                   1\n",
       "112     Pierce    Prairie Ridge                   1\n",
       "\n",
       "[113 rows x 3 columns]"
      ]
     },
     "execution_count": 12,
     "metadata": {},
     "output_type": "execute_result"
    }
   ],
   "source": [
    "ev_city_distribution_top_counties = top_counties_data.groupby(['County','City']).size().sort_values(ascending=False).reset_index(name='Number of Vehicles')\n",
    "ev_city_distribution_top_counties"
   ]
  },
  {
   "cell_type": "markdown",
   "id": "532c9f90",
   "metadata": {},
   "source": [
    "**<h3>Visualize Top 10 cities across these counties.</h3>**"
   ]
  },
  {
   "cell_type": "code",
   "execution_count": 13,
   "id": "65ec86e9",
   "metadata": {},
   "outputs": [
    {
     "data": {
      "text/html": [
       "<div>\n",
       "<style scoped>\n",
       "    .dataframe tbody tr th:only-of-type {\n",
       "        vertical-align: middle;\n",
       "    }\n",
       "\n",
       "    .dataframe tbody tr th {\n",
       "        vertical-align: top;\n",
       "    }\n",
       "\n",
       "    .dataframe thead th {\n",
       "        text-align: right;\n",
       "    }\n",
       "</style>\n",
       "<table border=\"1\" class=\"dataframe\">\n",
       "  <thead>\n",
       "    <tr style=\"text-align: right;\">\n",
       "      <th></th>\n",
       "      <th>County</th>\n",
       "      <th>City</th>\n",
       "      <th>Number of Vehicles</th>\n",
       "    </tr>\n",
       "  </thead>\n",
       "  <tbody>\n",
       "    <tr>\n",
       "      <th>0</th>\n",
       "      <td>King</td>\n",
       "      <td>Seattle</td>\n",
       "      <td>29447</td>\n",
       "    </tr>\n",
       "    <tr>\n",
       "      <th>1</th>\n",
       "      <td>King</td>\n",
       "      <td>Bellevue</td>\n",
       "      <td>8930</td>\n",
       "    </tr>\n",
       "    <tr>\n",
       "      <th>2</th>\n",
       "      <td>King</td>\n",
       "      <td>Redmond</td>\n",
       "      <td>6478</td>\n",
       "    </tr>\n",
       "    <tr>\n",
       "      <th>3</th>\n",
       "      <td>King</td>\n",
       "      <td>Kirkland</td>\n",
       "      <td>5362</td>\n",
       "    </tr>\n",
       "    <tr>\n",
       "      <th>4</th>\n",
       "      <td>King</td>\n",
       "      <td>Sammamish</td>\n",
       "      <td>5280</td>\n",
       "    </tr>\n",
       "    <tr>\n",
       "      <th>5</th>\n",
       "      <td>King</td>\n",
       "      <td>Renton</td>\n",
       "      <td>4980</td>\n",
       "    </tr>\n",
       "    <tr>\n",
       "      <th>6</th>\n",
       "      <td>Snohomish</td>\n",
       "      <td>Bothell</td>\n",
       "      <td>4663</td>\n",
       "    </tr>\n",
       "    <tr>\n",
       "      <th>7</th>\n",
       "      <td>Pierce</td>\n",
       "      <td>Tacoma</td>\n",
       "      <td>3722</td>\n",
       "    </tr>\n",
       "    <tr>\n",
       "      <th>8</th>\n",
       "      <td>King</td>\n",
       "      <td>Tukwila</td>\n",
       "      <td>2927</td>\n",
       "    </tr>\n",
       "    <tr>\n",
       "      <th>9</th>\n",
       "      <td>King</td>\n",
       "      <td>Kent</td>\n",
       "      <td>2782</td>\n",
       "    </tr>\n",
       "  </tbody>\n",
       "</table>\n",
       "</div>"
      ],
      "text/plain": [
       "      County       City  Number of Vehicles\n",
       "0       King    Seattle               29447\n",
       "1       King   Bellevue                8930\n",
       "2       King    Redmond                6478\n",
       "3       King   Kirkland                5362\n",
       "4       King  Sammamish                5280\n",
       "5       King     Renton                4980\n",
       "6  Snohomish    Bothell                4663\n",
       "7     Pierce     Tacoma                3722\n",
       "8       King    Tukwila                2927\n",
       "9       King       Kent                2782"
      ]
     },
     "execution_count": 13,
     "metadata": {},
     "output_type": "execute_result"
    }
   ],
   "source": [
    "top_cities = ev_city_distribution_top_counties.head(10)\n",
    "top_cities"
   ]
  },
  {
   "cell_type": "code",
   "execution_count": 14,
   "id": "374da1ec",
   "metadata": {},
   "outputs": [
    {
     "data": {
      "image/png": "[encoded data removed]",
      "text/plain": [
       "<Figure size 1000x600 with 1 Axes>"
      ]
     },
     "metadata": {},
     "output_type": "display_data"
    }
   ],
   "source": [
    "plt.figure(figsize=(10,6))\n",
    "sns.barplot(x = 'Number of Vehicles' , y = 'City' , hue = 'County' , data = top_cities)\n",
    "plt.title('Top Cities in Top Counties by EV Registration')\n",
    "plt.xlabel('Number of Vehicles Registered')\n",
    "plt.ylabel('City')\n",
    "plt.show()"
   ]
  },
  {
   "cell_type": "markdown",
   "id": "d617ab54",
   "metadata": {},
   "source": [
    "<b><font color=\"Blue\">The above graph compares the number of electric vehicles registered in various cities within three counties: King, Snohomish, and Pierce. The horizontal bars represent cities, and their length corresponds to the number of vehicles registered, colour-coded by county.  </font></b>\n",
    "\n",
    "<b><font color=\"Blue\">- Seattle, which is in King County, has the highest number of EV registrations by a significant margin, far outpacing the other cities listed.</font></b>\n",
    "\n",
    "<b><font color=\"Blue\">- Bellevue and Redmond, also in King County, follow Seattle with the next highest registrations, though these are considerably less than Seattle’s.</font></b>\n",
    "\n",
    "<b><font color=\"Blue\">- Cities in King County, such as Kirkland, Sammamish and Renton, show moderate EV registrations.</font></b>\n",
    "\n",
    "<b><font color=\"Blue\">-  Bothell, which is in Snohomish County, show moderate EV registrations.</font></b>\n",
    "\n",
    "<b><font color=\"Blue\">- Tacoma, representing Pierce County, have the fewest EV registrations among the cities listed, with Tacoma slightly ahead of Tukwila and Kent cities of King county.</font></b>\n",
    "\n",
    "<b><font color=\"Blue\">The majority of cities shown are from King County, seems to dominate EV registrations among the three counties.</font></b>"
   ]
  },
  {
   "cell_type": "markdown",
   "id": "a0f2c367",
   "metadata": {},
   "source": [
    "**<h3><font color=\"Green\">EV Types :</font></h3>**\n",
    "**<h3>Analyzing the dataset by Electric Vehicle Type (BEV and PHEV).</h3>**"
   ]
  },
  {
   "cell_type": "code",
   "execution_count": 15,
   "id": "c57ffef8",
   "metadata": {},
   "outputs": [
    {
     "data": {
      "text/plain": [
       "Battery Electric Vehicle (BEV)            138947\n",
       "Plug-in Hybrid Electric Vehicle (PHEV)     38526\n",
       "Name: Electric Vehicle Type, dtype: int64"
      ]
     },
     "execution_count": 15,
     "metadata": {},
     "output_type": "execute_result"
    }
   ],
   "source": [
    "ev_type_distribution = ev_data['Electric Vehicle Type'].value_counts()\n",
    "ev_type_distribution"
   ]
  },
  {
   "cell_type": "code",
   "execution_count": 16,
   "id": "1573f645",
   "metadata": {},
   "outputs": [
    {
     "data": {
      "image/png": "[encoded data removed]",
      "text/plain": [
       "<Figure size 1000x600 with 1 Axes>"
      ]
     },
     "metadata": {},
     "output_type": "display_data"
    }
   ],
   "source": [
    "plt.figure(figsize=(10,6))\n",
    "sns.barplot(x = ev_type_distribution.values , y = ev_type_distribution.index)\n",
    "plt.title('Distribution of Electric Vehicle Types')\n",
    "plt.xlabel('Number of Vehicles Registered')\n",
    "plt.ylabel('Electric Vehicle Type')\n",
    "plt.show()"
   ]
  },
  {
   "cell_type": "markdown",
   "id": "9e6d29b1",
   "metadata": {},
   "source": [
    "<b><font color=\"Blue\">The above graph shows that BEVs are more popular or preferred over PHEVs among the electric vehicles registered in the United States.</font></b>"
   ]
  },
  {
   "cell_type": "markdown",
   "id": "6c32784b",
   "metadata": {},
   "source": [
    "**<h3><font color=\"Green\">Make and Model Popularity :</font></h3>**\n",
    "**<h3>Identify the most popular makes and models among the registered EVs.</h3>**"
   ]
  },
  {
   "cell_type": "markdown",
   "id": "e79bc8dd",
   "metadata": {},
   "source": [
    "**<h3>Analyzing the popularity of EV manufacturers</h3>**"
   ]
  },
  {
   "cell_type": "code",
   "execution_count": 17,
   "id": "6274760c",
   "metadata": {},
   "outputs": [
    {
     "data": {
      "text/plain": [
       "TESLA         79471\n",
       "NISSAN        13984\n",
       "CHEVROLET     13651\n",
       "FORD           9177\n",
       "BMW            7556\n",
       "KIA            7423\n",
       "TOYOTA         6254\n",
       "VOLKSWAGEN     4993\n",
       "JEEP           4468\n",
       "HYUNDAI        4398\n",
       "Name: Make, dtype: int64"
      ]
     },
     "execution_count": 17,
     "metadata": {},
     "output_type": "execute_result"
    }
   ],
   "source": [
    "# Top 10 EV Manufacturers\n",
    "\n",
    "ev_make_distribution = ev_data['Make'].value_counts().head(10)\n",
    "ev_make_distribution"
   ]
  },
  {
   "cell_type": "code",
   "execution_count": 18,
   "id": "aaf52e46",
   "metadata": {},
   "outputs": [
    {
     "data": {
      "image/png": "[encoded data removed]",
      "text/plain": [
       "<Figure size 1000x600 with 1 Axes>"
      ]
     },
     "metadata": {},
     "output_type": "display_data"
    }
   ],
   "source": [
    "plt.figure(figsize=(10,6))\n",
    "sns.barplot(x = ev_make_distribution.values , y = ev_make_distribution.index)\n",
    "plt.title('Top 10 Popular EV Make')\n",
    "plt.xlabel('Number of Vehicles Registered')\n",
    "plt.ylabel('Make')\n",
    "plt.show()"
   ]
  },
  {
   "cell_type": "markdown",
   "id": "ff6aed5c",
   "metadata": {},
   "source": [
    "<b><font color=\"Blue\">Above chart shows that:</font></b>\n",
    "    \n",
    "<b><font color=\"Blue\">- TESLA leads by a substantial margin with the highest number of vehicles registered.</font></b>\n",
    "\n",
    "<b><font color=\"Blue\">- NISSAN is the second most popular manufacturer, followed by CHEVROLET, though both have significantly fewer registrations than TESLA.</font></b>\n",
    "\n",
    "<b><font color=\"Blue\">- FORD, BMW, KIA, TOYOTA, VOLKSWAGEN, JEEP, and HYUNDAI follow in decreasing order of the number of registered vehicles.</font></b>"
   ]
  },
  {
   "cell_type": "markdown",
   "id": "b67f5138",
   "metadata": {},
   "source": [
    "**<h3>Top 3 Make based on Number of Vehicles registered.</h3>**"
   ]
  },
  {
   "cell_type": "code",
   "execution_count": 19,
   "id": "9c3551d4",
   "metadata": {},
   "outputs": [
    {
     "data": {
      "text/plain": [
       "Index(['TESLA', 'NISSAN', 'CHEVROLET'], dtype='object')"
      ]
     },
     "execution_count": 19,
     "metadata": {},
     "output_type": "execute_result"
    }
   ],
   "source": [
    "top_3_makes = ev_make_distribution.head(3).index\n",
    "top_3_makes"
   ]
  },
  {
   "cell_type": "markdown",
   "id": "85091bfe",
   "metadata": {},
   "source": [
    "**<h3>Filtering the dataset for these top 3 manufacturers</h3>**"
   ]
  },
  {
   "cell_type": "code",
   "execution_count": 20,
   "id": "3a43f1b8",
   "metadata": {},
   "outputs": [
    {
     "data": {
      "text/html": [
       "<div>\n",
       "<style scoped>\n",
       "    .dataframe tbody tr th:only-of-type {\n",
       "        vertical-align: middle;\n",
       "    }\n",
       "\n",
       "    .dataframe tbody tr th {\n",
       "        vertical-align: top;\n",
       "    }\n",
       "\n",
       "    .dataframe thead th {\n",
       "        text-align: right;\n",
       "    }\n",
       "</style>\n",
       "<table border=\"1\" class=\"dataframe\">\n",
       "  <thead>\n",
       "    <tr style=\"text-align: right;\">\n",
       "      <th></th>\n",
       "      <th>VIN (1-10)</th>\n",
       "      <th>County</th>\n",
       "      <th>City</th>\n",
       "      <th>State</th>\n",
       "      <th>Postal Code</th>\n",
       "      <th>Model Year</th>\n",
       "      <th>Make</th>\n",
       "      <th>Model</th>\n",
       "      <th>Electric Vehicle Type</th>\n",
       "      <th>Clean Alternative Fuel Vehicle (CAFV) Eligibility</th>\n",
       "      <th>Electric Range</th>\n",
       "      <th>Base MSRP</th>\n",
       "      <th>Legislative District</th>\n",
       "      <th>DOL Vehicle ID</th>\n",
       "      <th>Vehicle Location</th>\n",
       "      <th>Electric Utility</th>\n",
       "      <th>2020 Census Tract</th>\n",
       "    </tr>\n",
       "  </thead>\n",
       "  <tbody>\n",
       "    <tr>\n",
       "      <th>0</th>\n",
       "      <td>5YJYGDEE1L</td>\n",
       "      <td>King</td>\n",
       "      <td>Seattle</td>\n",
       "      <td>WA</td>\n",
       "      <td>98122.0</td>\n",
       "      <td>2020</td>\n",
       "      <td>TESLA</td>\n",
       "      <td>MODEL Y</td>\n",
       "      <td>Battery Electric Vehicle (BEV)</td>\n",
       "      <td>Clean Alternative Fuel Vehicle Eligible</td>\n",
       "      <td>291</td>\n",
       "      <td>0</td>\n",
       "      <td>37.0</td>\n",
       "      <td>125701579</td>\n",
       "      <td>POINT (-122.30839 47.610365)</td>\n",
       "      <td>CITY OF SEATTLE - (WA)|CITY OF TACOMA - (WA)</td>\n",
       "      <td>5.303301e+10</td>\n",
       "    </tr>\n",
       "    <tr>\n",
       "      <th>1</th>\n",
       "      <td>7SAYGDEE9P</td>\n",
       "      <td>Snohomish</td>\n",
       "      <td>Bothell</td>\n",
       "      <td>WA</td>\n",
       "      <td>98021.0</td>\n",
       "      <td>2023</td>\n",
       "      <td>TESLA</td>\n",
       "      <td>MODEL Y</td>\n",
       "      <td>Battery Electric Vehicle (BEV)</td>\n",
       "      <td>Eligibility unknown as battery range has not b...</td>\n",
       "      <td>0</td>\n",
       "      <td>0</td>\n",
       "      <td>1.0</td>\n",
       "      <td>244285107</td>\n",
       "      <td>POINT (-122.179458 47.802589)</td>\n",
       "      <td>PUGET SOUND ENERGY INC</td>\n",
       "      <td>5.306105e+10</td>\n",
       "    </tr>\n",
       "    <tr>\n",
       "      <th>2</th>\n",
       "      <td>5YJSA1E4XK</td>\n",
       "      <td>King</td>\n",
       "      <td>Seattle</td>\n",
       "      <td>WA</td>\n",
       "      <td>98109.0</td>\n",
       "      <td>2019</td>\n",
       "      <td>TESLA</td>\n",
       "      <td>MODEL S</td>\n",
       "      <td>Battery Electric Vehicle (BEV)</td>\n",
       "      <td>Clean Alternative Fuel Vehicle Eligible</td>\n",
       "      <td>270</td>\n",
       "      <td>0</td>\n",
       "      <td>36.0</td>\n",
       "      <td>156773144</td>\n",
       "      <td>POINT (-122.34848 47.632405)</td>\n",
       "      <td>CITY OF SEATTLE - (WA)|CITY OF TACOMA - (WA)</td>\n",
       "      <td>5.303301e+10</td>\n",
       "    </tr>\n",
       "    <tr>\n",
       "      <th>3</th>\n",
       "      <td>5YJSA1E27G</td>\n",
       "      <td>King</td>\n",
       "      <td>Issaquah</td>\n",
       "      <td>WA</td>\n",
       "      <td>98027.0</td>\n",
       "      <td>2016</td>\n",
       "      <td>TESLA</td>\n",
       "      <td>MODEL S</td>\n",
       "      <td>Battery Electric Vehicle (BEV)</td>\n",
       "      <td>Clean Alternative Fuel Vehicle Eligible</td>\n",
       "      <td>210</td>\n",
       "      <td>0</td>\n",
       "      <td>5.0</td>\n",
       "      <td>165103011</td>\n",
       "      <td>POINT (-122.03646 47.534065)</td>\n",
       "      <td>PUGET SOUND ENERGY INC||CITY OF TACOMA - (WA)</td>\n",
       "      <td>5.303303e+10</td>\n",
       "    </tr>\n",
       "    <tr>\n",
       "      <th>4</th>\n",
       "      <td>5YJYGDEE5M</td>\n",
       "      <td>Kitsap</td>\n",
       "      <td>Suquamish</td>\n",
       "      <td>WA</td>\n",
       "      <td>98392.0</td>\n",
       "      <td>2021</td>\n",
       "      <td>TESLA</td>\n",
       "      <td>MODEL Y</td>\n",
       "      <td>Battery Electric Vehicle (BEV)</td>\n",
       "      <td>Eligibility unknown as battery range has not b...</td>\n",
       "      <td>0</td>\n",
       "      <td>0</td>\n",
       "      <td>23.0</td>\n",
       "      <td>205138552</td>\n",
       "      <td>POINT (-122.55717 47.733415)</td>\n",
       "      <td>PUGET SOUND ENERGY INC</td>\n",
       "      <td>5.303594e+10</td>\n",
       "    </tr>\n",
       "    <tr>\n",
       "      <th>...</th>\n",
       "      <td>...</td>\n",
       "      <td>...</td>\n",
       "      <td>...</td>\n",
       "      <td>...</td>\n",
       "      <td>...</td>\n",
       "      <td>...</td>\n",
       "      <td>...</td>\n",
       "      <td>...</td>\n",
       "      <td>...</td>\n",
       "      <td>...</td>\n",
       "      <td>...</td>\n",
       "      <td>...</td>\n",
       "      <td>...</td>\n",
       "      <td>...</td>\n",
       "      <td>...</td>\n",
       "      <td>...</td>\n",
       "      <td>...</td>\n",
       "    </tr>\n",
       "    <tr>\n",
       "      <th>177859</th>\n",
       "      <td>1N4BZ1DV7M</td>\n",
       "      <td>King</td>\n",
       "      <td>Redmond</td>\n",
       "      <td>WA</td>\n",
       "      <td>98053.0</td>\n",
       "      <td>2021</td>\n",
       "      <td>NISSAN</td>\n",
       "      <td>LEAF</td>\n",
       "      <td>Battery Electric Vehicle (BEV)</td>\n",
       "      <td>Eligibility unknown as battery range has not b...</td>\n",
       "      <td>0</td>\n",
       "      <td>0</td>\n",
       "      <td>45.0</td>\n",
       "      <td>172798951</td>\n",
       "      <td>POINT (-122.0222799 47.6958998)</td>\n",
       "      <td>PUGET SOUND ENERGY INC||CITY OF TACOMA - (WA)</td>\n",
       "      <td>5.303303e+10</td>\n",
       "    </tr>\n",
       "    <tr>\n",
       "      <th>177860</th>\n",
       "      <td>1G1FX6S00J</td>\n",
       "      <td>Clallam</td>\n",
       "      <td>Sequim</td>\n",
       "      <td>WA</td>\n",
       "      <td>98382.0</td>\n",
       "      <td>2018</td>\n",
       "      <td>CHEVROLET</td>\n",
       "      <td>BOLT EV</td>\n",
       "      <td>Battery Electric Vehicle (BEV)</td>\n",
       "      <td>Clean Alternative Fuel Vehicle Eligible</td>\n",
       "      <td>238</td>\n",
       "      <td>0</td>\n",
       "      <td>24.0</td>\n",
       "      <td>347972607</td>\n",
       "      <td>POINT (-123.105015 48.08125)</td>\n",
       "      <td>BONNEVILLE POWER ADMINISTRATION||PUD NO 1 OF C...</td>\n",
       "      <td>5.300900e+10</td>\n",
       "    </tr>\n",
       "    <tr>\n",
       "      <th>177861</th>\n",
       "      <td>7SAYGDEE3N</td>\n",
       "      <td>Pierce</td>\n",
       "      <td>Bonney Lake</td>\n",
       "      <td>WA</td>\n",
       "      <td>98391.0</td>\n",
       "      <td>2022</td>\n",
       "      <td>TESLA</td>\n",
       "      <td>MODEL Y</td>\n",
       "      <td>Battery Electric Vehicle (BEV)</td>\n",
       "      <td>Eligibility unknown as battery range has not b...</td>\n",
       "      <td>0</td>\n",
       "      <td>0</td>\n",
       "      <td>31.0</td>\n",
       "      <td>195224452</td>\n",
       "      <td>POINT (-122.183805 47.18062)</td>\n",
       "      <td>PUGET SOUND ENERGY INC||CITY OF TACOMA - (WA)</td>\n",
       "      <td>5.305307e+10</td>\n",
       "    </tr>\n",
       "    <tr>\n",
       "      <th>177863</th>\n",
       "      <td>5YJYGDEE6M</td>\n",
       "      <td>Grant</td>\n",
       "      <td>Quincy</td>\n",
       "      <td>WA</td>\n",
       "      <td>98848.0</td>\n",
       "      <td>2021</td>\n",
       "      <td>TESLA</td>\n",
       "      <td>MODEL Y</td>\n",
       "      <td>Battery Electric Vehicle (BEV)</td>\n",
       "      <td>Eligibility unknown as battery range has not b...</td>\n",
       "      <td>0</td>\n",
       "      <td>0</td>\n",
       "      <td>13.0</td>\n",
       "      <td>168797219</td>\n",
       "      <td>POINT (-119.8493873 47.2339933)</td>\n",
       "      <td>PUD NO 2 OF GRANT COUNTY</td>\n",
       "      <td>5.302501e+10</td>\n",
       "    </tr>\n",
       "    <tr>\n",
       "      <th>177865</th>\n",
       "      <td>5YJ3E1EA8M</td>\n",
       "      <td>Pierce</td>\n",
       "      <td>Tacoma</td>\n",
       "      <td>WA</td>\n",
       "      <td>98422.0</td>\n",
       "      <td>2021</td>\n",
       "      <td>TESLA</td>\n",
       "      <td>MODEL 3</td>\n",
       "      <td>Battery Electric Vehicle (BEV)</td>\n",
       "      <td>Eligibility unknown as battery range has not b...</td>\n",
       "      <td>0</td>\n",
       "      <td>0</td>\n",
       "      <td>27.0</td>\n",
       "      <td>211464683</td>\n",
       "      <td>POINT (-122.38578 47.28971)</td>\n",
       "      <td>BONNEVILLE POWER ADMINISTRATION||CITY OF TACOM...</td>\n",
       "      <td>5.305394e+10</td>\n",
       "    </tr>\n",
       "  </tbody>\n",
       "</table>\n",
       "<p>107106 rows × 17 columns</p>\n",
       "</div>"
      ],
      "text/plain": [
       "        VIN (1-10)     County         City State  Postal Code  Model Year  \\\n",
       "0       5YJYGDEE1L       King      Seattle    WA      98122.0        2020   \n",
       "1       7SAYGDEE9P  Snohomish      Bothell    WA      98021.0        2023   \n",
       "2       5YJSA1E4XK       King      Seattle    WA      98109.0        2019   \n",
       "3       5YJSA1E27G       King     Issaquah    WA      98027.0        2016   \n",
       "4       5YJYGDEE5M     Kitsap    Suquamish    WA      98392.0        2021   \n",
       "...            ...        ...          ...   ...          ...         ...   \n",
       "177859  1N4BZ1DV7M       King      Redmond    WA      98053.0        2021   \n",
       "177860  1G1FX6S00J    Clallam       Sequim    WA      98382.0        2018   \n",
       "177861  7SAYGDEE3N     Pierce  Bonney Lake    WA      98391.0        2022   \n",
       "177863  5YJYGDEE6M      Grant       Quincy    WA      98848.0        2021   \n",
       "177865  5YJ3E1EA8M     Pierce       Tacoma    WA      98422.0        2021   \n",
       "\n",
       "             Make    Model           Electric Vehicle Type  \\\n",
       "0           TESLA  MODEL Y  Battery Electric Vehicle (BEV)   \n",
       "1           TESLA  MODEL Y  Battery Electric Vehicle (BEV)   \n",
       "2           TESLA  MODEL S  Battery Electric Vehicle (BEV)   \n",
       "3           TESLA  MODEL S  Battery Electric Vehicle (BEV)   \n",
       "4           TESLA  MODEL Y  Battery Electric Vehicle (BEV)   \n",
       "...           ...      ...                             ...   \n",
       "177859     NISSAN     LEAF  Battery Electric Vehicle (BEV)   \n",
       "177860  CHEVROLET  BOLT EV  Battery Electric Vehicle (BEV)   \n",
       "177861      TESLA  MODEL Y  Battery Electric Vehicle (BEV)   \n",
       "177863      TESLA  MODEL Y  Battery Electric Vehicle (BEV)   \n",
       "177865      TESLA  MODEL 3  Battery Electric Vehicle (BEV)   \n",
       "\n",
       "        Clean Alternative Fuel Vehicle (CAFV) Eligibility  Electric Range  \\\n",
       "0                 Clean Alternative Fuel Vehicle Eligible             291   \n",
       "1       Eligibility unknown as battery range has not b...               0   \n",
       "2                 Clean Alternative Fuel Vehicle Eligible             270   \n",
       "3                 Clean Alternative Fuel Vehicle Eligible             210   \n",
       "4       Eligibility unknown as battery range has not b...               0   \n",
       "...                                                   ...             ...   \n",
       "177859  Eligibility unknown as battery range has not b...               0   \n",
       "177860            Clean Alternative Fuel Vehicle Eligible             238   \n",
       "177861  Eligibility unknown as battery range has not b...               0   \n",
       "177863  Eligibility unknown as battery range has not b...               0   \n",
       "177865  Eligibility unknown as battery range has not b...               0   \n",
       "\n",
       "        Base MSRP  Legislative District  DOL Vehicle ID  \\\n",
       "0               0                  37.0       125701579   \n",
       "1               0                   1.0       244285107   \n",
       "2               0                  36.0       156773144   \n",
       "3               0                   5.0       165103011   \n",
       "4               0                  23.0       205138552   \n",
       "...           ...                   ...             ...   \n",
       "177859          0                  45.0       172798951   \n",
       "177860          0                  24.0       347972607   \n",
       "177861          0                  31.0       195224452   \n",
       "177863          0                  13.0       168797219   \n",
       "177865          0                  27.0       211464683   \n",
       "\n",
       "                       Vehicle Location  \\\n",
       "0          POINT (-122.30839 47.610365)   \n",
       "1         POINT (-122.179458 47.802589)   \n",
       "2          POINT (-122.34848 47.632405)   \n",
       "3          POINT (-122.03646 47.534065)   \n",
       "4          POINT (-122.55717 47.733415)   \n",
       "...                                 ...   \n",
       "177859  POINT (-122.0222799 47.6958998)   \n",
       "177860     POINT (-123.105015 48.08125)   \n",
       "177861     POINT (-122.183805 47.18062)   \n",
       "177863  POINT (-119.8493873 47.2339933)   \n",
       "177865      POINT (-122.38578 47.28971)   \n",
       "\n",
       "                                         Electric Utility  2020 Census Tract  \n",
       "0            CITY OF SEATTLE - (WA)|CITY OF TACOMA - (WA)       5.303301e+10  \n",
       "1                                  PUGET SOUND ENERGY INC       5.306105e+10  \n",
       "2            CITY OF SEATTLE - (WA)|CITY OF TACOMA - (WA)       5.303301e+10  \n",
       "3           PUGET SOUND ENERGY INC||CITY OF TACOMA - (WA)       5.303303e+10  \n",
       "4                                  PUGET SOUND ENERGY INC       5.303594e+10  \n",
       "...                                                   ...                ...  \n",
       "177859      PUGET SOUND ENERGY INC||CITY OF TACOMA - (WA)       5.303303e+10  \n",
       "177860  BONNEVILLE POWER ADMINISTRATION||PUD NO 1 OF C...       5.300900e+10  \n",
       "177861      PUGET SOUND ENERGY INC||CITY OF TACOMA - (WA)       5.305307e+10  \n",
       "177863                           PUD NO 2 OF GRANT COUNTY       5.302501e+10  \n",
       "177865  BONNEVILLE POWER ADMINISTRATION||CITY OF TACOM...       5.305394e+10  \n",
       "\n",
       "[107106 rows x 17 columns]"
      ]
     },
     "execution_count": 20,
     "metadata": {},
     "output_type": "execute_result"
    }
   ],
   "source": [
    "top_makes_data = ev_data[ev_data['Make'].isin(top_3_makes)]\n",
    "top_makes_data"
   ]
  },
  {
   "cell_type": "markdown",
   "id": "d0e43e57",
   "metadata": {},
   "source": [
    "**<h3>Analyzing the popularity of EV models within these top manufacturers</h3>**"
   ]
  },
  {
   "cell_type": "code",
   "execution_count": 21,
   "id": "7b585669",
   "metadata": {},
   "outputs": [
    {
     "data": {
      "text/html": [
       "<div>\n",
       "<style scoped>\n",
       "    .dataframe tbody tr th:only-of-type {\n",
       "        vertical-align: middle;\n",
       "    }\n",
       "\n",
       "    .dataframe tbody tr th {\n",
       "        vertical-align: top;\n",
       "    }\n",
       "\n",
       "    .dataframe thead th {\n",
       "        text-align: right;\n",
       "    }\n",
       "</style>\n",
       "<table border=\"1\" class=\"dataframe\">\n",
       "  <thead>\n",
       "    <tr style=\"text-align: right;\">\n",
       "      <th></th>\n",
       "      <th>Make</th>\n",
       "      <th>Model</th>\n",
       "      <th>Number of Vehicles</th>\n",
       "    </tr>\n",
       "  </thead>\n",
       "  <tbody>\n",
       "    <tr>\n",
       "      <th>0</th>\n",
       "      <td>TESLA</td>\n",
       "      <td>MODEL Y</td>\n",
       "      <td>35921</td>\n",
       "    </tr>\n",
       "    <tr>\n",
       "      <th>1</th>\n",
       "      <td>TESLA</td>\n",
       "      <td>MODEL 3</td>\n",
       "      <td>30009</td>\n",
       "    </tr>\n",
       "    <tr>\n",
       "      <th>2</th>\n",
       "      <td>NISSAN</td>\n",
       "      <td>LEAF</td>\n",
       "      <td>13352</td>\n",
       "    </tr>\n",
       "    <tr>\n",
       "      <th>3</th>\n",
       "      <td>TESLA</td>\n",
       "      <td>MODEL S</td>\n",
       "      <td>7711</td>\n",
       "    </tr>\n",
       "    <tr>\n",
       "      <th>4</th>\n",
       "      <td>CHEVROLET</td>\n",
       "      <td>BOLT EV</td>\n",
       "      <td>6811</td>\n",
       "    </tr>\n",
       "    <tr>\n",
       "      <th>5</th>\n",
       "      <td>TESLA</td>\n",
       "      <td>MODEL X</td>\n",
       "      <td>5784</td>\n",
       "    </tr>\n",
       "    <tr>\n",
       "      <th>6</th>\n",
       "      <td>CHEVROLET</td>\n",
       "      <td>VOLT</td>\n",
       "      <td>4782</td>\n",
       "    </tr>\n",
       "    <tr>\n",
       "      <th>7</th>\n",
       "      <td>CHEVROLET</td>\n",
       "      <td>BOLT EUV</td>\n",
       "      <td>1770</td>\n",
       "    </tr>\n",
       "    <tr>\n",
       "      <th>8</th>\n",
       "      <td>NISSAN</td>\n",
       "      <td>ARIYA</td>\n",
       "      <td>632</td>\n",
       "    </tr>\n",
       "    <tr>\n",
       "      <th>9</th>\n",
       "      <td>CHEVROLET</td>\n",
       "      <td>SPARK</td>\n",
       "      <td>240</td>\n",
       "    </tr>\n",
       "    <tr>\n",
       "      <th>10</th>\n",
       "      <td>TESLA</td>\n",
       "      <td>ROADSTER</td>\n",
       "      <td>46</td>\n",
       "    </tr>\n",
       "    <tr>\n",
       "      <th>11</th>\n",
       "      <td>CHEVROLET</td>\n",
       "      <td>SILVERADO EV</td>\n",
       "      <td>33</td>\n",
       "    </tr>\n",
       "    <tr>\n",
       "      <th>12</th>\n",
       "      <td>CHEVROLET</td>\n",
       "      <td>BLAZER EV</td>\n",
       "      <td>14</td>\n",
       "    </tr>\n",
       "    <tr>\n",
       "      <th>13</th>\n",
       "      <td>CHEVROLET</td>\n",
       "      <td>S-10 PICKUP</td>\n",
       "      <td>1</td>\n",
       "    </tr>\n",
       "  </tbody>\n",
       "</table>\n",
       "</div>"
      ],
      "text/plain": [
       "         Make         Model  Number of Vehicles\n",
       "0       TESLA       MODEL Y               35921\n",
       "1       TESLA       MODEL 3               30009\n",
       "2      NISSAN          LEAF               13352\n",
       "3       TESLA       MODEL S                7711\n",
       "4   CHEVROLET       BOLT EV                6811\n",
       "5       TESLA       MODEL X                5784\n",
       "6   CHEVROLET          VOLT                4782\n",
       "7   CHEVROLET      BOLT EUV                1770\n",
       "8      NISSAN         ARIYA                 632\n",
       "9   CHEVROLET         SPARK                 240\n",
       "10      TESLA      ROADSTER                  46\n",
       "11  CHEVROLET  SILVERADO EV                  33\n",
       "12  CHEVROLET     BLAZER EV                  14\n",
       "13  CHEVROLET   S-10 PICKUP                   1"
      ]
     },
     "execution_count": 21,
     "metadata": {},
     "output_type": "execute_result"
    }
   ],
   "source": [
    "ev_model_distribution_top_makes = top_makes_data.groupby(['Make','Model']).size().sort_values(ascending=False).reset_index(name='Number of Vehicles')\n",
    "ev_model_distribution_top_makes"
   ]
  },
  {
   "cell_type": "markdown",
   "id": "e640b8da",
   "metadata": {},
   "source": [
    "**<h3>Visualizing Top 10 models across these top manufacturers</h3>**"
   ]
  },
  {
   "cell_type": "code",
   "execution_count": 22,
   "id": "d17c27bb",
   "metadata": {},
   "outputs": [
    {
     "data": {
      "text/html": [
       "<div>\n",
       "<style scoped>\n",
       "    .dataframe tbody tr th:only-of-type {\n",
       "        vertical-align: middle;\n",
       "    }\n",
       "\n",
       "    .dataframe tbody tr th {\n",
       "        vertical-align: top;\n",
       "    }\n",
       "\n",
       "    .dataframe thead th {\n",
       "        text-align: right;\n",
       "    }\n",
       "</style>\n",
       "<table border=\"1\" class=\"dataframe\">\n",
       "  <thead>\n",
       "    <tr style=\"text-align: right;\">\n",
       "      <th></th>\n",
       "      <th>Make</th>\n",
       "      <th>Model</th>\n",
       "      <th>Number of Vehicles</th>\n",
       "    </tr>\n",
       "  </thead>\n",
       "  <tbody>\n",
       "    <tr>\n",
       "      <th>0</th>\n",
       "      <td>TESLA</td>\n",
       "      <td>MODEL Y</td>\n",
       "      <td>35921</td>\n",
       "    </tr>\n",
       "    <tr>\n",
       "      <th>1</th>\n",
       "      <td>TESLA</td>\n",
       "      <td>MODEL 3</td>\n",
       "      <td>30009</td>\n",
       "    </tr>\n",
       "    <tr>\n",
       "      <th>2</th>\n",
       "      <td>NISSAN</td>\n",
       "      <td>LEAF</td>\n",
       "      <td>13352</td>\n",
       "    </tr>\n",
       "    <tr>\n",
       "      <th>3</th>\n",
       "      <td>TESLA</td>\n",
       "      <td>MODEL S</td>\n",
       "      <td>7711</td>\n",
       "    </tr>\n",
       "    <tr>\n",
       "      <th>4</th>\n",
       "      <td>CHEVROLET</td>\n",
       "      <td>BOLT EV</td>\n",
       "      <td>6811</td>\n",
       "    </tr>\n",
       "    <tr>\n",
       "      <th>5</th>\n",
       "      <td>TESLA</td>\n",
       "      <td>MODEL X</td>\n",
       "      <td>5784</td>\n",
       "    </tr>\n",
       "    <tr>\n",
       "      <th>6</th>\n",
       "      <td>CHEVROLET</td>\n",
       "      <td>VOLT</td>\n",
       "      <td>4782</td>\n",
       "    </tr>\n",
       "    <tr>\n",
       "      <th>7</th>\n",
       "      <td>CHEVROLET</td>\n",
       "      <td>BOLT EUV</td>\n",
       "      <td>1770</td>\n",
       "    </tr>\n",
       "    <tr>\n",
       "      <th>8</th>\n",
       "      <td>NISSAN</td>\n",
       "      <td>ARIYA</td>\n",
       "      <td>632</td>\n",
       "    </tr>\n",
       "    <tr>\n",
       "      <th>9</th>\n",
       "      <td>CHEVROLET</td>\n",
       "      <td>SPARK</td>\n",
       "      <td>240</td>\n",
       "    </tr>\n",
       "  </tbody>\n",
       "</table>\n",
       "</div>"
      ],
      "text/plain": [
       "        Make     Model  Number of Vehicles\n",
       "0      TESLA   MODEL Y               35921\n",
       "1      TESLA   MODEL 3               30009\n",
       "2     NISSAN      LEAF               13352\n",
       "3      TESLA   MODEL S                7711\n",
       "4  CHEVROLET   BOLT EV                6811\n",
       "5      TESLA   MODEL X                5784\n",
       "6  CHEVROLET      VOLT                4782\n",
       "7  CHEVROLET  BOLT EUV                1770\n",
       "8     NISSAN     ARIYA                 632\n",
       "9  CHEVROLET     SPARK                 240"
      ]
     },
     "execution_count": 22,
     "metadata": {},
     "output_type": "execute_result"
    }
   ],
   "source": [
    "top_models = ev_model_distribution_top_makes.head(10)\n",
    "top_models"
   ]
  },
  {
   "cell_type": "code",
   "execution_count": 23,
   "id": "e50c5430",
   "metadata": {},
   "outputs": [
    {
     "data": {
      "image/png": "[encoded data removed]",
      "text/plain": [
       "<Figure size 1000x600 with 1 Axes>"
      ]
     },
     "metadata": {},
     "output_type": "display_data"
    }
   ],
   "source": [
    "plt.figure(figsize=(10,6))\n",
    "sns.barplot(x = 'Number of Vehicles' , y = 'Model' , hue = 'Make' , data = top_models)\n",
    "plt.title('Top Models in Top 3 Makes by EV Registrations')\n",
    "plt.xlabel('Number of Vehicles Registered')\n",
    "plt.ylabel('Model')\n",
    "plt.show()"
   ]
  },
  {
   "cell_type": "markdown",
   "id": "a0a27e12",
   "metadata": {},
   "source": [
    "<b><font color=\"Blue\">Above graph shows the distribution of electric vehicle registrations among different models from the top three manufacturers: TESLA, NISSAN, and CHEVROLET.</font></b>\n",
    "\n",
    "<b><font color=\"Blue\">- TESLA’s MODEL Y and MODEL 3 are the most registered vehicles, with MODEL Y having the highest number of registrations.</font></b>\n",
    "\n",
    "<b><font color=\"Blue\">- NISSAN’s LEAF is the third most registered model</font></b>\n",
    "\n",
    "<b><font color=\"Blue\">- TESLA’s MODEL S and MODEL X also have a significant number of registrations.</font></b>\n",
    "\n",
    "<b><font color=\"Blue\">- CHEVROLET’s BOLT EV and VOLT are the next in the ranking with considerable registrations, followed by BOLT EUV.</font></b>\n",
    "\n",
    "<b><font color=\"Blue\">- NISSAN’s ARIYA and CHEVROLET’s SPARK have the least number of registrations among the models shown.</font></b>"
   ]
  },
  {
   "cell_type": "markdown",
   "id": "bc8c3b36",
   "metadata": {},
   "source": [
    "**<h3><font color=\"Green\">Electric range Analysis :</font></h3>**\n",
    "**<h3>Electric range indicates how far an EV can travel on a single charge.</h3>**"
   ]
  },
  {
   "cell_type": "markdown",
   "id": "ee5c7737",
   "metadata": {},
   "source": [
    "**<h3>Analyzing the distribution of Electric Range</h3>**"
   ]
  },
  {
   "cell_type": "code",
   "execution_count": 24,
   "id": "e2c31d86",
   "metadata": {},
   "outputs": [
    {
     "data": {
      "image/png": "[encoded data removed]",
      "text/plain": [
       "<Figure size 1000x600 with 1 Axes>"
      ]
     },
     "metadata": {},
     "output_type": "display_data"
    }
   ],
   "source": [
    "plt.figure(figsize=(10,6))\n",
    "sns.histplot(ev_data['Electric Range'] , bins = 35 , kde = True)\n",
    "plt.title('Distribution of Electric Vehicle Range')\n",
    "plt.xlabel('Electric Range (miles)')\n",
    "plt.ylabel('Number of Vehicles')\n",
    "plt.axvline(ev_data['Electric Range'].mean() , color = 'Red' , linestyle = '--' , label = f'Mean Range: {ev_data[\"Electric Range\"].mean():.2f} miles')\n",
    "plt.legend()\n",
    "plt.show()"
   ]
  },
  {
   "cell_type": "markdown",
   "id": "0e6cbad7",
   "metadata": {},
   "source": [
    "<b><font color=\"Blue\">The above graph shows mean Electric Range.</font></b>\n",
    "\n",
    "<b><font color=\"Blue\">There is a high frequency of vehicles with a low electric range, with a significant peak occurring just before 50 miles.</font></b>\n",
    "\n",
    "<b><font color=\"Blue\">The distribution is skewed to the right, with a long tail extending towards higher ranges, although the number of vehicles with higher ranges is much less frequent.</font></b>\n",
    "\n",
    "<b><font color=\"Blue\">The mean electric range for this set of vehicles is marked at approximately 58.84 miles, which is relatively low compared to the highest ranges shown in the graph.</font></b>\n",
    "\n",
    "<b><font color=\"Blue\">Despite the presence of electric vehicles with ranges that extend up to around 350 miles, the majority of the vehicles have a range below the mean.</font></b>"
   ]
  },
  {
   "cell_type": "markdown",
   "id": "c200df04",
   "metadata": {},
   "source": [
    "**<h3>Calculating the Average Electric Range by Model Year.</h3>**"
   ]
  },
  {
   "cell_type": "code",
   "execution_count": 25,
   "id": "10a7087b",
   "metadata": {},
   "outputs": [
    {
     "data": {
      "text/html": [
       "<div>\n",
       "<style scoped>\n",
       "    .dataframe tbody tr th:only-of-type {\n",
       "        vertical-align: middle;\n",
       "    }\n",
       "\n",
       "    .dataframe tbody tr th {\n",
       "        vertical-align: top;\n",
       "    }\n",
       "\n",
       "    .dataframe thead th {\n",
       "        text-align: right;\n",
       "    }\n",
       "</style>\n",
       "<table border=\"1\" class=\"dataframe\">\n",
       "  <thead>\n",
       "    <tr style=\"text-align: right;\">\n",
       "      <th></th>\n",
       "      <th>Model Year</th>\n",
       "      <th>Electric Range</th>\n",
       "    </tr>\n",
       "  </thead>\n",
       "  <tbody>\n",
       "    <tr>\n",
       "      <th>0</th>\n",
       "      <td>1997</td>\n",
       "      <td>39.000000</td>\n",
       "    </tr>\n",
       "    <tr>\n",
       "      <th>1</th>\n",
       "      <td>1998</td>\n",
       "      <td>58.000000</td>\n",
       "    </tr>\n",
       "    <tr>\n",
       "      <th>2</th>\n",
       "      <td>1999</td>\n",
       "      <td>74.000000</td>\n",
       "    </tr>\n",
       "    <tr>\n",
       "      <th>3</th>\n",
       "      <td>2000</td>\n",
       "      <td>58.000000</td>\n",
       "    </tr>\n",
       "    <tr>\n",
       "      <th>4</th>\n",
       "      <td>2002</td>\n",
       "      <td>95.000000</td>\n",
       "    </tr>\n",
       "    <tr>\n",
       "      <th>5</th>\n",
       "      <td>2003</td>\n",
       "      <td>95.000000</td>\n",
       "    </tr>\n",
       "    <tr>\n",
       "      <th>6</th>\n",
       "      <td>2008</td>\n",
       "      <td>220.000000</td>\n",
       "    </tr>\n",
       "    <tr>\n",
       "      <th>7</th>\n",
       "      <td>2010</td>\n",
       "      <td>226.086957</td>\n",
       "    </tr>\n",
       "    <tr>\n",
       "      <th>8</th>\n",
       "      <td>2011</td>\n",
       "      <td>70.891613</td>\n",
       "    </tr>\n",
       "    <tr>\n",
       "      <th>9</th>\n",
       "      <td>2012</td>\n",
       "      <td>61.172243</td>\n",
       "    </tr>\n",
       "    <tr>\n",
       "      <th>10</th>\n",
       "      <td>2013</td>\n",
       "      <td>79.822232</td>\n",
       "    </tr>\n",
       "    <tr>\n",
       "      <th>11</th>\n",
       "      <td>2014</td>\n",
       "      <td>80.798341</td>\n",
       "    </tr>\n",
       "    <tr>\n",
       "      <th>12</th>\n",
       "      <td>2015</td>\n",
       "      <td>98.254869</td>\n",
       "    </tr>\n",
       "    <tr>\n",
       "      <th>13</th>\n",
       "      <td>2016</td>\n",
       "      <td>101.197111</td>\n",
       "    </tr>\n",
       "    <tr>\n",
       "      <th>14</th>\n",
       "      <td>2017</td>\n",
       "      <td>114.162292</td>\n",
       "    </tr>\n",
       "    <tr>\n",
       "      <th>15</th>\n",
       "      <td>2018</td>\n",
       "      <td>156.165967</td>\n",
       "    </tr>\n",
       "    <tr>\n",
       "      <th>16</th>\n",
       "      <td>2019</td>\n",
       "      <td>176.918904</td>\n",
       "    </tr>\n",
       "    <tr>\n",
       "      <th>17</th>\n",
       "      <td>2020</td>\n",
       "      <td>238.748978</td>\n",
       "    </tr>\n",
       "    <tr>\n",
       "      <th>18</th>\n",
       "      <td>2021</td>\n",
       "      <td>11.402665</td>\n",
       "    </tr>\n",
       "    <tr>\n",
       "      <th>19</th>\n",
       "      <td>2022</td>\n",
       "      <td>4.518045</td>\n",
       "    </tr>\n",
       "    <tr>\n",
       "      <th>20</th>\n",
       "      <td>2023</td>\n",
       "      <td>3.729168</td>\n",
       "    </tr>\n",
       "    <tr>\n",
       "      <th>21</th>\n",
       "      <td>2024</td>\n",
       "      <td>16.791431</td>\n",
       "    </tr>\n",
       "  </tbody>\n",
       "</table>\n",
       "</div>"
      ],
      "text/plain": [
       "    Model Year  Electric Range\n",
       "0         1997       39.000000\n",
       "1         1998       58.000000\n",
       "2         1999       74.000000\n",
       "3         2000       58.000000\n",
       "4         2002       95.000000\n",
       "5         2003       95.000000\n",
       "6         2008      220.000000\n",
       "7         2010      226.086957\n",
       "8         2011       70.891613\n",
       "9         2012       61.172243\n",
       "10        2013       79.822232\n",
       "11        2014       80.798341\n",
       "12        2015       98.254869\n",
       "13        2016      101.197111\n",
       "14        2017      114.162292\n",
       "15        2018      156.165967\n",
       "16        2019      176.918904\n",
       "17        2020      238.748978\n",
       "18        2021       11.402665\n",
       "19        2022        4.518045\n",
       "20        2023        3.729168\n",
       "21        2024       16.791431"
      ]
     },
     "execution_count": 25,
     "metadata": {},
     "output_type": "execute_result"
    }
   ],
   "source": [
    "average_range_by_year = ev_data.groupby('Model Year')['Electric Range'].mean().reset_index()\n",
    "average_range_by_year"
   ]
  },
  {
   "cell_type": "code",
   "execution_count": 26,
   "id": "cb89336a",
   "metadata": {},
   "outputs": [
    {
     "data": {
      "image/png": "[encoded data removed]",
      "text/plain": [
       "<Figure size 1000x600 with 1 Axes>"
      ]
     },
     "metadata": {},
     "output_type": "display_data"
    }
   ],
   "source": [
    "plt.figure(figsize=(10,6))\n",
    "sns.lineplot(x = 'Model Year' , y = 'Electric Range' , data = average_range_by_year , marker = 'o' , color = 'Green')\n",
    "plt.title('Average Electric Range by Model Year')\n",
    "plt.xlabel('Model Year')\n",
    "plt.ylabel('Average Electric Range (miles)')\n",
    "plt.show()"
   ]
  },
  {
   "cell_type": "markdown",
   "id": "2663fd01",
   "metadata": {},
   "source": [
    "<b><font color=\"Blue\">The above graph shows the progression of the average electric range of vehicles from around the year 2000 to 2024.</font></b>\n",
    "\n",
    "<b><font color=\"Blue\">- There is a general upward trend in the average electric range of EVs over the years, indicating improvements in technology and battery efficiency.</font></b>\n",
    "\n",
    "<b><font color=\"Blue\">- There is a noticeable peak around the year 2020 when the average range reaches its highest point.</font></b>\n",
    "\n",
    "<b><font color=\"Blue\">- Following 2020, there’s a significant drop in the average range, which could indicate that data for the following years might be incomplete or reflect the introduction of several lower-range models.</font></b>\n",
    "\n",
    "<b><font color=\"Blue\">- After the sharp decline, there is a slight recovery in the average range in the most recent year shown on the graph.</font></b>\n",
    "\n",
    "<b><font color=\"Blue\">- The data suggest that while there have been fluctuations, the overall trend over the last two decades has been toward increasing the electric range of EVs.</font></b>"
   ]
  },
  {
   "cell_type": "markdown",
   "id": "b9dbc937",
   "metadata": {},
   "source": [
    "**<h3>Average Electric Ranges among the top Manufacturers and Models.</h3>**"
   ]
  },
  {
   "cell_type": "code",
   "execution_count": 27,
   "id": "932c35e7",
   "metadata": {},
   "outputs": [
    {
     "data": {
      "text/html": [
       "<div>\n",
       "<style scoped>\n",
       "    .dataframe tbody tr th:only-of-type {\n",
       "        vertical-align: middle;\n",
       "    }\n",
       "\n",
       "    .dataframe tbody tr th {\n",
       "        vertical-align: top;\n",
       "    }\n",
       "\n",
       "    .dataframe thead th {\n",
       "        text-align: right;\n",
       "    }\n",
       "</style>\n",
       "<table border=\"1\" class=\"dataframe\">\n",
       "  <thead>\n",
       "    <tr style=\"text-align: right;\">\n",
       "      <th></th>\n",
       "      <th>Make</th>\n",
       "      <th>Model</th>\n",
       "      <th>Electric Range</th>\n",
       "    </tr>\n",
       "  </thead>\n",
       "  <tbody>\n",
       "    <tr>\n",
       "      <th>0</th>\n",
       "      <td>TESLA</td>\n",
       "      <td>ROADSTER</td>\n",
       "      <td>234.673913</td>\n",
       "    </tr>\n",
       "    <tr>\n",
       "      <th>1</th>\n",
       "      <td>TESLA</td>\n",
       "      <td>MODEL S</td>\n",
       "      <td>176.794449</td>\n",
       "    </tr>\n",
       "    <tr>\n",
       "      <th>2</th>\n",
       "      <td>CHEVROLET</td>\n",
       "      <td>BOLT EV</td>\n",
       "      <td>154.857143</td>\n",
       "    </tr>\n",
       "    <tr>\n",
       "      <th>3</th>\n",
       "      <td>TESLA</td>\n",
       "      <td>MODEL X</td>\n",
       "      <td>137.192600</td>\n",
       "    </tr>\n",
       "    <tr>\n",
       "      <th>4</th>\n",
       "      <td>TESLA</td>\n",
       "      <td>MODEL 3</td>\n",
       "      <td>109.463028</td>\n",
       "    </tr>\n",
       "    <tr>\n",
       "      <th>5</th>\n",
       "      <td>NISSAN</td>\n",
       "      <td>LEAF</td>\n",
       "      <td>84.148742</td>\n",
       "    </tr>\n",
       "    <tr>\n",
       "      <th>6</th>\n",
       "      <td>CHEVROLET</td>\n",
       "      <td>SPARK</td>\n",
       "      <td>82.000000</td>\n",
       "    </tr>\n",
       "    <tr>\n",
       "      <th>7</th>\n",
       "      <td>CHEVROLET</td>\n",
       "      <td>VOLT</td>\n",
       "      <td>45.365119</td>\n",
       "    </tr>\n",
       "    <tr>\n",
       "      <th>8</th>\n",
       "      <td>CHEVROLET</td>\n",
       "      <td>S-10 PICKUP</td>\n",
       "      <td>39.000000</td>\n",
       "    </tr>\n",
       "    <tr>\n",
       "      <th>9</th>\n",
       "      <td>TESLA</td>\n",
       "      <td>MODEL Y</td>\n",
       "      <td>19.191531</td>\n",
       "    </tr>\n",
       "    <tr>\n",
       "      <th>10</th>\n",
       "      <td>CHEVROLET</td>\n",
       "      <td>BLAZER EV</td>\n",
       "      <td>0.000000</td>\n",
       "    </tr>\n",
       "    <tr>\n",
       "      <th>11</th>\n",
       "      <td>CHEVROLET</td>\n",
       "      <td>BOLT EUV</td>\n",
       "      <td>0.000000</td>\n",
       "    </tr>\n",
       "    <tr>\n",
       "      <th>12</th>\n",
       "      <td>CHEVROLET</td>\n",
       "      <td>SILVERADO EV</td>\n",
       "      <td>0.000000</td>\n",
       "    </tr>\n",
       "    <tr>\n",
       "      <th>13</th>\n",
       "      <td>NISSAN</td>\n",
       "      <td>ARIYA</td>\n",
       "      <td>0.000000</td>\n",
       "    </tr>\n",
       "  </tbody>\n",
       "</table>\n",
       "</div>"
      ],
      "text/plain": [
       "         Make         Model  Electric Range\n",
       "0       TESLA      ROADSTER      234.673913\n",
       "1       TESLA       MODEL S      176.794449\n",
       "2   CHEVROLET       BOLT EV      154.857143\n",
       "3       TESLA       MODEL X      137.192600\n",
       "4       TESLA       MODEL 3      109.463028\n",
       "5      NISSAN          LEAF       84.148742\n",
       "6   CHEVROLET         SPARK       82.000000\n",
       "7   CHEVROLET          VOLT       45.365119\n",
       "8   CHEVROLET   S-10 PICKUP       39.000000\n",
       "9       TESLA       MODEL Y       19.191531\n",
       "10  CHEVROLET     BLAZER EV        0.000000\n",
       "11  CHEVROLET      BOLT EUV        0.000000\n",
       "12  CHEVROLET  SILVERADO EV        0.000000\n",
       "13     NISSAN         ARIYA        0.000000"
      ]
     },
     "execution_count": 27,
     "metadata": {},
     "output_type": "execute_result"
    }
   ],
   "source": [
    "average_range_by_model = top_makes_data.groupby(['Make','Model'])['Electric Range'].mean().sort_values(ascending=False).reset_index()\n",
    "average_range_by_model"
   ]
  },
  {
   "cell_type": "markdown",
   "id": "20ff458e",
   "metadata": {},
   "source": [
    "**<h3>Top 10 Models with the highest Average Electric Range</h3>**"
   ]
  },
  {
   "cell_type": "code",
   "execution_count": 28,
   "id": "1bd38454",
   "metadata": {},
   "outputs": [
    {
     "data": {
      "text/html": [
       "<div>\n",
       "<style scoped>\n",
       "    .dataframe tbody tr th:only-of-type {\n",
       "        vertical-align: middle;\n",
       "    }\n",
       "\n",
       "    .dataframe tbody tr th {\n",
       "        vertical-align: top;\n",
       "    }\n",
       "\n",
       "    .dataframe thead th {\n",
       "        text-align: right;\n",
       "    }\n",
       "</style>\n",
       "<table border=\"1\" class=\"dataframe\">\n",
       "  <thead>\n",
       "    <tr style=\"text-align: right;\">\n",
       "      <th></th>\n",
       "      <th>Make</th>\n",
       "      <th>Model</th>\n",
       "      <th>Electric Range</th>\n",
       "    </tr>\n",
       "  </thead>\n",
       "  <tbody>\n",
       "    <tr>\n",
       "      <th>0</th>\n",
       "      <td>TESLA</td>\n",
       "      <td>ROADSTER</td>\n",
       "      <td>234.673913</td>\n",
       "    </tr>\n",
       "    <tr>\n",
       "      <th>1</th>\n",
       "      <td>TESLA</td>\n",
       "      <td>MODEL S</td>\n",
       "      <td>176.794449</td>\n",
       "    </tr>\n",
       "    <tr>\n",
       "      <th>2</th>\n",
       "      <td>CHEVROLET</td>\n",
       "      <td>BOLT EV</td>\n",
       "      <td>154.857143</td>\n",
       "    </tr>\n",
       "    <tr>\n",
       "      <th>3</th>\n",
       "      <td>TESLA</td>\n",
       "      <td>MODEL X</td>\n",
       "      <td>137.192600</td>\n",
       "    </tr>\n",
       "    <tr>\n",
       "      <th>4</th>\n",
       "      <td>TESLA</td>\n",
       "      <td>MODEL 3</td>\n",
       "      <td>109.463028</td>\n",
       "    </tr>\n",
       "    <tr>\n",
       "      <th>5</th>\n",
       "      <td>NISSAN</td>\n",
       "      <td>LEAF</td>\n",
       "      <td>84.148742</td>\n",
       "    </tr>\n",
       "    <tr>\n",
       "      <th>6</th>\n",
       "      <td>CHEVROLET</td>\n",
       "      <td>SPARK</td>\n",
       "      <td>82.000000</td>\n",
       "    </tr>\n",
       "    <tr>\n",
       "      <th>7</th>\n",
       "      <td>CHEVROLET</td>\n",
       "      <td>VOLT</td>\n",
       "      <td>45.365119</td>\n",
       "    </tr>\n",
       "    <tr>\n",
       "      <th>8</th>\n",
       "      <td>CHEVROLET</td>\n",
       "      <td>S-10 PICKUP</td>\n",
       "      <td>39.000000</td>\n",
       "    </tr>\n",
       "    <tr>\n",
       "      <th>9</th>\n",
       "      <td>TESLA</td>\n",
       "      <td>MODEL Y</td>\n",
       "      <td>19.191531</td>\n",
       "    </tr>\n",
       "  </tbody>\n",
       "</table>\n",
       "</div>"
      ],
      "text/plain": [
       "        Make        Model  Electric Range\n",
       "0      TESLA     ROADSTER      234.673913\n",
       "1      TESLA      MODEL S      176.794449\n",
       "2  CHEVROLET      BOLT EV      154.857143\n",
       "3      TESLA      MODEL X      137.192600\n",
       "4      TESLA      MODEL 3      109.463028\n",
       "5     NISSAN         LEAF       84.148742\n",
       "6  CHEVROLET        SPARK       82.000000\n",
       "7  CHEVROLET         VOLT       45.365119\n",
       "8  CHEVROLET  S-10 PICKUP       39.000000\n",
       "9      TESLA      MODEL Y       19.191531"
      ]
     },
     "execution_count": 28,
     "metadata": {},
     "output_type": "execute_result"
    }
   ],
   "source": [
    "top_range_models = average_range_by_model.head(10)\n",
    "top_range_models"
   ]
  },
  {
   "cell_type": "code",
   "execution_count": 29,
   "id": "b4df2a09",
   "metadata": {},
   "outputs": [
    {
     "data": {
      "image/png": "[encoded data removed]",
      "text/plain": [
       "<Figure size 1000x600 with 1 Axes>"
      ]
     },
     "metadata": {},
     "output_type": "display_data"
    }
   ],
   "source": [
    "plt.figure(figsize=(10,6))\n",
    "sns.barplot(x = 'Electric Range' , y = 'Model' , hue = 'Make' , data = top_range_models)\n",
    "plt.title('Top 10 Models by Average Electric Range in Top Makes')\n",
    "plt.xlabel('Average Electric range')\n",
    "plt.ylabel('Model')\n",
    "plt.show()"
   ]
  },
  {
   "cell_type": "markdown",
   "id": "4e03f704",
   "metadata": {},
   "source": [
    "<b><font color=\"Blue\">The TESLA ROADSTER has the highest average electric range among the models listed. TESLA’s models (ROADSTER, MODEL S, MODEL X, and MODEL 3) occupy the majority of the top positions, indicating that on average, TESLA’s vehicles have higher electric ranges.</font></b>\n",
    "\n",
    "<b><font color=\"Blue\">The CHEVROLET BOLT EV is an outlier among the CHEVROLET models, having a substantially higher range than the VOLT and S-10 PICKUP from the same maker.</font></b>\n",
    "\n",
    "<b><font color=\"Blue\">NISSAN’s LEAF and CHEVROLET’s SPARK are in the lower half of the chart, suggesting more modest average ranges.</font></b>"
   ]
  },
  {
   "cell_type": "markdown",
   "id": "01255d69",
   "metadata": {},
   "source": [
    "**<h3><font color=\"Green\">Estimated Growth in Market Size :</font></h3>**\n",
    "**<h3>Estimated Market Size Analysis of Electric Vehicles in the United States</h3>**"
   ]
  },
  {
   "cell_type": "markdown",
   "id": "237e0c2b",
   "metadata": {},
   "source": [
    "**<h3>Calculate the number of EVs registered each year</h3>**"
   ]
  },
  {
   "cell_type": "code",
   "execution_count": 30,
   "id": "41a9b475",
   "metadata": {},
   "outputs": [
    {
     "data": {
      "text/plain": [
       "1997        1\n",
       "1998        1\n",
       "1999        5\n",
       "2000        7\n",
       "2002        2\n",
       "2003        1\n",
       "2008       19\n",
       "2010       23\n",
       "2011      775\n",
       "2012     1614\n",
       "2013     4399\n",
       "2014     3496\n",
       "2015     4826\n",
       "2016     5469\n",
       "2017     8534\n",
       "2018    14286\n",
       "2019    10913\n",
       "2020    11740\n",
       "2021    19063\n",
       "2022    27708\n",
       "2023    57519\n",
       "2024     7072\n",
       "Name: Model Year, dtype: int64"
      ]
     },
     "execution_count": 30,
     "metadata": {},
     "output_type": "execute_result"
    }
   ],
   "source": [
    "ev_registration_counts = ev_data['Model Year'].value_counts().sort_index()\n",
    "ev_registration_counts"
   ]
  },
  {
   "cell_type": "markdown",
   "id": "913f38d4",
   "metadata": {},
   "source": [
    "<b><font color=\"Blue\">The dataset provides the number of electric vehicles registered each year from 1997 through 2024. However, the data for 2024 is incomplete as it only contains the data till March.</font></b>\n",
    "\n",
    "<b><font color=\"Blue\">- In 2021, there were 19,063 EVs registered.</font></b>\n",
    "    \n",
    "<b><font color=\"Blue\">- In 2022, the number increased to 27708 EVs.</font></b>\n",
    "\n",
    "<b><font color=\"Blue\">- In 2023, a significant jump to 57,519 EVs was observed.</font></b>\n",
    "\n",
    "<b><font color=\"Blue\">- For 2024, currently, 7,072 EVs are registered, which suggests partial data.</font></b>\n",
    "\n",
    "<b><font color=\"Blue\">- To forecast the total number of EVs expected to be registered in 2024, we can use a growth rate based approach from previous complete years.</font></b>"
   ]
  },
  {
   "cell_type": "markdown",
   "id": "f3c91b12",
   "metadata": {},
   "source": [
    "**<h3><font color=\"Green\">Calculate the Compound Annual Growth Rate (CAGR) between a recent year with complete data (2023) and an earlier year to project the 2024 figures.</font></h3>**"
   ]
  },
  {
   "cell_type": "code",
   "execution_count": 31,
   "id": "64500f61",
   "metadata": {},
   "outputs": [],
   "source": [
    "# Import required libraries\n",
    "\n",
    "from scipy.optimize import curve_fit\n",
    "import numpy as np"
   ]
  },
  {
   "cell_type": "markdown",
   "id": "dd1a61f3",
   "metadata": {},
   "source": [
    "<h3>Filter the dataset to include years with complete data, assuming 2023 is the last complete year</h3>"
   ]
  },
  {
   "cell_type": "code",
   "execution_count": 32,
   "id": "2ba707e6",
   "metadata": {},
   "outputs": [
    {
     "data": {
      "text/plain": [
       "1997        1\n",
       "1998        1\n",
       "1999        5\n",
       "2000        7\n",
       "2002        2\n",
       "2003        1\n",
       "2008       19\n",
       "2010       23\n",
       "2011      775\n",
       "2012     1614\n",
       "2013     4399\n",
       "2014     3496\n",
       "2015     4826\n",
       "2016     5469\n",
       "2017     8534\n",
       "2018    14286\n",
       "2019    10913\n",
       "2020    11740\n",
       "2021    19063\n",
       "2022    27708\n",
       "2023    57519\n",
       "Name: Model Year, dtype: int64"
      ]
     },
     "execution_count": 32,
     "metadata": {},
     "output_type": "execute_result"
    }
   ],
   "source": [
    "filtered_years = ev_registration_counts[ev_registration_counts.index <= 2023]\n",
    "filtered_years"
   ]
  },
  {
   "cell_type": "markdown",
   "id": "d63b15bd",
   "metadata": {},
   "source": [
    "<h3>Define a function for exponential growth to fit the data</h3>"
   ]
  },
  {
   "cell_type": "code",
   "execution_count": 33,
   "id": "bf07d036",
   "metadata": {},
   "outputs": [],
   "source": [
    "def exp_growth(x, a, b):\n",
    "    return a * np.exp(b * x)"
   ]
  },
  {
   "cell_type": "markdown",
   "id": "100c4f23",
   "metadata": {},
   "source": [
    "<h3>Prepare the data for curve fitting</h3>"
   ]
  },
  {
   "cell_type": "code",
   "execution_count": 34,
   "id": "996567fe",
   "metadata": {},
   "outputs": [
    {
     "data": {
      "text/plain": [
       "Int64Index([0, 1, 2, 3, 5, 6, 11, 13, 14, 15, 16, 17, 18, 19, 20, 21, 22, 23,\n",
       "            24, 25, 26],\n",
       "           dtype='int64')"
      ]
     },
     "execution_count": 34,
     "metadata": {},
     "output_type": "execute_result"
    }
   ],
   "source": [
    "x_data = filtered_years.index - filtered_years.index.min()\n",
    "x_data"
   ]
  },
  {
   "cell_type": "code",
   "execution_count": 35,
   "id": "bcf20705",
   "metadata": {},
   "outputs": [
    {
     "data": {
      "text/plain": [
       "array([    1,     1,     5,     7,     2,     1,    19,    23,   775,\n",
       "        1614,  4399,  3496,  4826,  5469,  8534, 14286, 10913, 11740,\n",
       "       19063, 27708, 57519], dtype=int64)"
      ]
     },
     "execution_count": 35,
     "metadata": {},
     "output_type": "execute_result"
    }
   ],
   "source": [
    "y_data = filtered_years.values\n",
    "y_data"
   ]
  },
  {
   "cell_type": "markdown",
   "id": "724556f2",
   "metadata": {},
   "source": [
    "<h3>Fit the data to the exponential growth function</h3>"
   ]
  },
  {
   "cell_type": "code",
   "execution_count": 36,
   "id": "7f29223a",
   "metadata": {},
   "outputs": [],
   "source": [
    "params, covariance = curve_fit(exp_growth, x_data, y_data)"
   ]
  },
  {
   "cell_type": "code",
   "execution_count": 37,
   "id": "0f0e95be",
   "metadata": {},
   "outputs": [
    {
     "data": {
      "text/plain": [
       "array([1.1008126 , 0.41415395])"
      ]
     },
     "execution_count": 37,
     "metadata": {},
     "output_type": "execute_result"
    }
   ],
   "source": [
    "params"
   ]
  },
  {
   "cell_type": "code",
   "execution_count": 38,
   "id": "f4381e78",
   "metadata": {},
   "outputs": [
    {
     "data": {
      "text/plain": [
       "array([[ 1.28914317, -0.04634423],\n",
       "       [-0.04634423,  0.00166966]])"
      ]
     },
     "execution_count": 38,
     "metadata": {},
     "output_type": "execute_result"
    }
   ],
   "source": [
    "covariance"
   ]
  },
  {
   "cell_type": "markdown",
   "id": "7498df6d",
   "metadata": {},
   "source": [
    "<h3>Use the fitted function to forecast the number of EVs for 2024 and the next five years</h3>"
   ]
  },
  {
   "cell_type": "code",
   "execution_count": 39,
   "id": "35a8b2d6",
   "metadata": {},
   "outputs": [
    {
     "data": {
      "text/plain": [
       "array([27, 28, 29, 30, 31, 32])"
      ]
     },
     "execution_count": 39,
     "metadata": {},
     "output_type": "execute_result"
    }
   ],
   "source": [
    "forecast_years = np.arange(2024, 2024 + 6) - filtered_years.index.min()\n",
    "forecast_years"
   ]
  },
  {
   "cell_type": "code",
   "execution_count": 40,
   "id": "962415be",
   "metadata": {},
   "outputs": [
    {
     "data": {
      "text/plain": [
       "array([ 79079.20808939, 119653.96274429, 181047.22020266, 273940.74706209,\n",
       "       414497.01805382, 627171.31284077])"
      ]
     },
     "execution_count": 40,
     "metadata": {},
     "output_type": "execute_result"
    }
   ],
   "source": [
    "forecast_values = exp_growth(forecast_years, *params)\n",
    "forecast_values"
   ]
  },
  {
   "cell_type": "markdown",
   "id": "24892b49",
   "metadata": {},
   "source": [
    "<h3>Create a dictionary to display the forecasted values for easier interpretation</h3>"
   ]
  },
  {
   "cell_type": "code",
   "execution_count": 41,
   "id": "db58344a",
   "metadata": {},
   "outputs": [
    {
     "data": {
      "text/plain": [
       "{2024: 79079.20808938889,\n",
       " 2025: 119653.96274428742,\n",
       " 2026: 181047.22020265696,\n",
       " 2027: 273940.74706208805,\n",
       " 2028: 414497.01805382164,\n",
       " 2029: 627171.3128407666}"
      ]
     },
     "execution_count": 41,
     "metadata": {},
     "output_type": "execute_result"
    }
   ],
   "source": [
    "forecasted_EVs = dict(zip(forecast_years + filtered_years.index.min() , forecast_values))\n",
    "forecasted_EVs"
   ]
  },
  {
   "cell_type": "markdown",
   "id": "8d98e27a",
   "metadata": {},
   "source": [
    "<h3>Prepare data for plotting</h3>"
   ]
  },
  {
   "cell_type": "code",
   "execution_count": 42,
   "id": "697588f8",
   "metadata": {},
   "outputs": [
    {
     "data": {
      "text/plain": [
       "array([1997, 1998, 1999, 2000, 2001, 2002, 2003, 2004, 2005, 2006, 2007,\n",
       "       2008, 2009, 2010, 2011, 2012, 2013, 2014, 2015, 2016, 2017, 2018,\n",
       "       2019, 2020, 2021, 2022, 2023, 2024, 2025, 2026, 2027, 2028, 2029],\n",
       "      dtype=int64)"
      ]
     },
     "execution_count": 42,
     "metadata": {},
     "output_type": "execute_result"
    }
   ],
   "source": [
    "years = np.arange(filtered_years.index.min(), 2029 + 1)\n",
    "years"
   ]
  },
  {
   "cell_type": "code",
   "execution_count": 43,
   "id": "98bf6652",
   "metadata": {},
   "outputs": [
    {
     "data": {
      "text/plain": [
       "Int64Index([1997, 1998, 1999, 2000, 2002, 2003, 2008, 2010, 2011, 2012, 2013,\n",
       "            2014, 2015, 2016, 2017, 2018, 2019, 2020, 2021, 2022, 2023],\n",
       "           dtype='int64')"
      ]
     },
     "execution_count": 43,
     "metadata": {},
     "output_type": "execute_result"
    }
   ],
   "source": [
    "actual_years = filtered_years.index\n",
    "actual_years"
   ]
  },
  {
   "cell_type": "code",
   "execution_count": 44,
   "id": "a77e56aa",
   "metadata": {},
   "outputs": [
    {
     "data": {
      "text/plain": [
       "array([2024, 2025, 2026, 2027, 2028, 2029])"
      ]
     },
     "execution_count": 44,
     "metadata": {},
     "output_type": "execute_result"
    }
   ],
   "source": [
    "forecast_years_full = np.arange(2024, 2029 + 1)\n",
    "forecast_years_full"
   ]
  },
  {
   "cell_type": "markdown",
   "id": "8202d1de",
   "metadata": {},
   "source": [
    "<h3>Visualize Actual and Forecasted values</h3>"
   ]
  },
  {
   "cell_type": "code",
   "execution_count": 45,
   "id": "9d84dbc7",
   "metadata": {},
   "outputs": [
    {
     "data": {
      "text/plain": [
       "array([    1,     1,     5,     7,     2,     1,    19,    23,   775,\n",
       "        1614,  4399,  3496,  4826,  5469,  8534, 14286, 10913, 11740,\n",
       "       19063, 27708, 57519], dtype=int64)"
      ]
     },
     "execution_count": 45,
     "metadata": {},
     "output_type": "execute_result"
    }
   ],
   "source": [
    "actual_values = filtered_years.values\n",
    "actual_values"
   ]
  },
  {
   "cell_type": "code",
   "execution_count": 46,
   "id": "dec332c1",
   "metadata": {},
   "outputs": [
    {
     "data": {
      "text/plain": [
       "[79079.20808938889,\n",
       " 119653.96274428742,\n",
       " 181047.22020265696,\n",
       " 273940.74706208805,\n",
       " 414497.01805382164,\n",
       " 627171.3128407666]"
      ]
     },
     "execution_count": 46,
     "metadata": {},
     "output_type": "execute_result"
    }
   ],
   "source": [
    "forecasted_values_full = [forecasted_EVs[years] for years in forecast_years_full]\n",
    "forecasted_values_full"
   ]
  },
  {
   "cell_type": "code",
   "execution_count": 47,
   "id": "07423301",
   "metadata": {},
   "outputs": [
    {
     "data": {
      "image/png": "[encoded data removed]",
      "text/plain": [
       "<Figure size 1000x600 with 1 Axes>"
      ]
     },
     "metadata": {},
     "output_type": "display_data"
    }
   ],
   "source": [
    "plt.figure(figsize=(10,6))\n",
    "plt.plot(actual_years , actual_values , 'bo-' , label='Actual Registrations')\n",
    "plt.plot(forecast_years_full , forecasted_values_full , 'ro--' , label='Forecasted Registrations')\n",
    "\n",
    "plt.title('Current & Estimated EV Market')\n",
    "plt.xlabel('Year')\n",
    "plt.ylabel('Number fo EV Registrations')\n",
    "plt.legend()\n",
    "plt.show()"
   ]
  },
  {
   "cell_type": "markdown",
   "id": "fc4b5301",
   "metadata": {},
   "source": [
    "<b><font color=\"Blue\">From the above graph, we can see:</font></b>\n",
    "\n",
    "<b><font color=\"Blue\">- The number of actual EV registrations remained relatively low and stable until around 2010, after which there was a consistent and steep upward trend, suggesting a significant increase in EV adoption.</font></b>\n",
    "\n",
    "<b><font color=\"Blue\">- The forecasted EV registrations predict an even more dramatic increase in the near future, with the number of registrations expected to rise sharply in the coming years.</font></b>\n",
    "\n",
    "<b><font color=\"Blue\">The growing trend in actual EV registrations and the projected acceleration as per the forecast data, we can conclude that the EV market size is expected to expand considerably. The steep increase in forecasted registrations suggests that consumer adoption of EVs is on the rise, and this trend is likely to continue. Overall, the data point towards a promising future for the EV industry, indicating a significant shift in consumer preferences and a potential increase in related investment and business opportunities.</font></b>"
   ]
  },
  {
   "cell_type": "markdown",
   "id": "7725d6d8",
   "metadata": {},
   "source": [
    "**<h3>Summary :</h3>**\n",
    "**<h3><font color=\"Red\">From our market size analysis of electric vehicles, we found a promising future for the EV industry, indicating a significant shift in consumer preferences and a potential increase in related investment and business opportunities.</font></h3>**"
   ]
  }
 ],
 "metadata": {
  "kernelspec": {
   "display_name": "Python 3 (ipykernel)",
   "language": "python",
   "name": "python3"
  },
  "language_info": {
   "codemirror_mode": {
    "name": "ipython",
    "version": 3
   },
   "file_extension": ".py",
   "mimetype": "text/x-python",
   "name": "python",
   "nbconvert_exporter": "python",
   "pygments_lexer": "ipython3",
   "version": "3.10.9"
  }
 },
 "nbformat": 4,
 "nbformat_minor": 5
}
